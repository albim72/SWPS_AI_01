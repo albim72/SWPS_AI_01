{
 "cells": [
  {
   "cell_type": "markdown",
   "id": "b376f7f0",
   "metadata": {},
   "source": [
    "# Zadanie 5 – Odpowiadanie na pytania z tekstu (Question Answering)\n",
    "W tym zadaniu wykorzystujemy model NLP do znajdowania odpowiedzi na pytania w zadanym kontekście tekstowym."
   ]
  },
  {
   "cell_type": "code",
   "execution_count": null,
   "id": "74fe85ba",
   "metadata": {},
   "outputs": [],
   "source": [
    "from transformers import pipeline\n",
    "import torch\n"
   ]
  },
  {
   "cell_type": "markdown",
   "id": "df266098",
   "metadata": {},
   "source": [
    "## Utworzenie pipeline do zadania question-answering"
   ]
  },
  {
   "cell_type": "code",
   "execution_count": null,
   "id": "2736c7dc",
   "metadata": {},
   "outputs": [],
   "source": [
    "# Używamy modelu BERT fine-tuned do QA\n",
    "qa_pipeline = pipeline(\"question-answering\", model=\"distilbert-base-uncased-distilled-squad\")"
   ]
  },
  {
   "cell_type": "markdown",
   "id": "508a3ce2",
   "metadata": {},
   "source": [
    "## Przykładowy kontekst i pytania"
   ]
  },
  {
   "cell_type": "code",
   "execution_count": null,
   "id": "0cdbd751",
   "metadata": {},
   "outputs": [],
   "source": [
    "context = (\n",
    "    \"Albert Einstein był niemieckim fizykiem teoretycznym, który opracował teorię względności, \"\n",
    "    \"jedną z dwóch głównych teorii współczesnej fizyki. Urodził się w 1879 roku w Ulm w Królestwie Wirtembergii.\"\n",
    ")\n",
    "\n",
    "questions = [\n",
    "    \"Kim był Albert Einstein?\",\n",
    "    \"Gdzie urodził się Albert Einstein?\",\n",
    "    \"Kiedy urodził się Albert Einstein?\"\n",
    "]"
   ]
  },
  {
   "cell_type": "markdown",
   "id": "380cd5b7",
   "metadata": {},
   "source": [
    "## Odpowiedzi na pytania"
   ]
  },
  {
   "cell_type": "code",
   "execution_count": null,
   "id": "ec1d464f",
   "metadata": {},
   "outputs": [],
   "source": [
    "for question in questions:\n",
    "    result = qa_pipeline(question=question, context=context)\n",
    "    print(f\"Pytanie: {question}\")\n",
    "    print(f\"Odpowiedź: {result['answer']} (score: {result['score']:.2f})\\n\")"
   ]
  }
 ],
 "metadata": {},
 "nbformat": 4,
 "nbformat_minor": 5
}
