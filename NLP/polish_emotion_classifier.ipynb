{
 "cells": [
  {
   "cell_type": "markdown",
   "id": "df8b56c8",
   "metadata": {},
   "source": [
    "# Klasyfikacja emocji w języku polskim\n",
    "\n",
    "Ten notebook pokazuje, jak przeprowadzić klasyfikację emocji w tekstach polskich, wykorzystując gotowy model sentymentu lub podejście z tłumaczeniem na język angielski i analizą emocji.\n",
    "\n",
    "Zastosujemy dwie metody:\n",
    "1. Klasyfikację sentymentu (pozytywny / negatywny / neutralny) – model `sdadas/polish-sentiment-model`\n",
    "2. Tłumaczenie polskich zdań na angielski i analiza emocji modelem `j-hartmann/emotion-english-distilroberta-base`\n"
   ]
  },
  {
   "cell_type": "code",
   "execution_count": null,
   "id": "5d7e3b1a",
   "metadata": {},
   "outputs": [],
   "source": [
    "!pip install -q transformers sentencepiece"
   ]
  },
  {
   "cell_type": "code",
   "execution_count": null,
   "id": "46c9d851",
   "metadata": {},
   "outputs": [],
   "source": [
    "from transformers import pipeline"
   ]
  },
  {
   "cell_type": "markdown",
   "id": "b2635e05",
   "metadata": {},
   "source": [
    "## Klasyfikacja sentymentu (model polski)"
   ]
  },
  {
   "cell_type": "code",
   "execution_count": null,
   "id": "5ea397f1",
   "metadata": {},
   "outputs": [],
   "source": [
    "\n",
    "pl_sentiment = pipeline(\"sentiment-analysis\", model=\"sdadas/polish-sentiment-model\")\n",
    "\n",
    "texts = [\n",
    "    \"To był wspaniały dzień!\",\n",
    "    \"Jestem rozczarowany obsługą.\",\n",
    "    \"Nie mam zdania na ten temat.\",\n",
    "    \"Ten produkt to kompletna porażka.\",\n",
    "    \"Dziękuję za pomoc, było bardzo miło.\"\n",
    "]\n",
    "\n",
    "for text in texts:\n",
    "    print(f\"{text} -> {pl_sentiment(text)[0]}\")\n"
   ]
  },
  {
   "cell_type": "markdown",
   "id": "b61366ad",
   "metadata": {},
   "source": [
    "## Klasyfikacja emocji po tłumaczeniu na angielski"
   ]
  },
  {
   "cell_type": "code",
   "execution_count": null,
   "id": "61985741",
   "metadata": {},
   "outputs": [],
   "source": [
    "\n",
    "translator = pipeline(\"translation\", model=\"Helsinki-NLP/opus-mt-pl-en\")\n",
    "emotion_classifier = pipeline(\"text-classification\", model=\"j-hartmann/emotion-english-distilroberta-base\", return_all_scores=True)\n",
    "\n",
    "def classify_emotions(texts):\n",
    "    for text in texts:\n",
    "        translated = translator(text)[0]['translation_text']\n",
    "        emotions = emotion_classifier(translated)[0]\n",
    "        sorted_emotions = sorted(emotions, key=lambda x: x['score'], reverse=True)\n",
    "        print(f\"Tekst: {text}\")\n",
    "        print(f\"Tłumaczenie: {translated}\")\n",
    "        for e in sorted_emotions:\n",
    "            print(f\"  {e['label']}: {e['score']:.3f}\")\n",
    "        print()\n",
    "\n",
    "texts_emotion = [\n",
    "    \"Czuję się bardzo szczęśliwy i pełen energii.\",\n",
    "    \"To było okropne doświadczenie.\",\n",
    "    \"Nie wiem co mam robić, jestem zagubiony.\",\n",
    "    \"Wszystko mnie dzisiaj denerwuje.\",\n",
    "    \"Zaskoczyło mnie to, czego się dowiedziałem.\"\n",
    "]\n",
    "\n",
    "classify_emotions(texts_emotion)\n"
   ]
  }
 ],
 "metadata": {},
 "nbformat": 4,
 "nbformat_minor": 5
}
