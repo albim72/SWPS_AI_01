{
  "nbformat": 4,
  "nbformat_minor": 0,
  "metadata": {
    "colab": {
      "provenance": []
    },
    "kernelspec": {
      "name": "python3",
      "display_name": "Python 3"
    },
    "language_info": {
      "name": "python"
    }
  },
  "cells": [
    {
      "cell_type": "code",
      "execution_count": 1,
      "metadata": {
        "id": "BMORZkv2dp9F"
      },
      "outputs": [],
      "source": [
        "import nltk\n",
        "from textblob import TextBlob\n",
        "from collections import Counter\n",
        "import matplotlib.pyplot as plt\n",
        "\n",
        "from nltk.corpus import stopwords\n"
      ]
    },
    {
      "cell_type": "code",
      "source": [
        "# nltk.download('punkt')\n",
        "# nltk.download('stopwords')"
      ],
      "metadata": {
        "colab": {
          "base_uri": "https://localhost:8080/"
        },
        "id": "EtQ7lCUwewN8",
        "outputId": "b77ccc08-7f57-4477-8f6c-2540c6126065"
      },
      "execution_count": 3,
      "outputs": [
        {
          "output_type": "stream",
          "name": "stderr",
          "text": [
            "[nltk_data] Downloading package punkt to /root/nltk_data...\n",
            "[nltk_data]   Package punkt is already up-to-date!\n",
            "[nltk_data] Downloading package stopwords to /root/nltk_data...\n",
            "[nltk_data]   Package stopwords is already up-to-date!\n"
          ]
        },
        {
          "output_type": "execute_result",
          "data": {
            "text/plain": [
              "True"
            ]
          },
          "metadata": {},
          "execution_count": 3
        }
      ]
    },
    {
      "cell_type": "code",
      "source": [
        "stop_words = set(stopwords.words('english'))"
      ],
      "metadata": {
        "id": "ZAXnHfoTe7vK"
      },
      "execution_count": 4,
      "outputs": []
    },
    {
      "cell_type": "code",
      "source": [
        "#pobieranie danych\n",
        "with open('opinions.txt', 'r',encoding='utf-8') as f:\n",
        "    text = [line.strip() for line in f if line.strip()]"
      ],
      "metadata": {
        "id": "8jQ5UROHfGYj"
      },
      "execution_count": 5,
      "outputs": []
    },
    {
      "cell_type": "code",
      "source": [
        "print(f\"liczba opinii: {len(text)}\")\n",
        "print(f\"pierwsza opinia: {text[0]}\")"
      ],
      "metadata": {
        "colab": {
          "base_uri": "https://localhost:8080/"
        },
        "id": "Tc6JmjiHfgGn",
        "outputId": "02691b59-00d2-47df-8d2c-0d573d921040"
      },
      "execution_count": 6,
      "outputs": [
        {
          "output_type": "stream",
          "name": "stdout",
          "text": [
            "liczba opinii: 300\n",
            "pierwsza opinia: Terrible quality.\n"
          ]
        }
      ]
    },
    {
      "cell_type": "code",
      "source": [
        "#tokenizacja i czyszczenie\n",
        "def clean_tokens(text):\n",
        "    words = nltk.word_tokenize(text.lower())\n",
        "    return [w for w in words if w.isalpha() and w not in stop_words]"
      ],
      "metadata": {
        "id": "8xzPaHy7ftLW"
      },
      "execution_count": 7,
      "outputs": []
    },
    {
      "cell_type": "code",
      "source": [
        "# nltk.download('punkt_tab')"
      ],
      "metadata": {
        "colab": {
          "base_uri": "https://localhost:8080/"
        },
        "id": "06Dn84LqgkiP",
        "outputId": "40412d16-c629-4cda-96e9-21d9338cdf07"
      },
      "execution_count": 9,
      "outputs": [
        {
          "output_type": "stream",
          "name": "stderr",
          "text": [
            "[nltk_data] Downloading package punkt_tab to /root/nltk_data...\n",
            "[nltk_data]   Unzipping tokenizers/punkt_tab.zip.\n"
          ]
        },
        {
          "output_type": "execute_result",
          "data": {
            "text/plain": [
              "True"
            ]
          },
          "metadata": {},
          "execution_count": 9
        }
      ]
    },
    {
      "cell_type": "code",
      "source": [
        "all_tokens = []\n",
        "for txt in text:\n",
        "    all_tokens.extend(clean_tokens(txt))"
      ],
      "metadata": {
        "id": "GX2a44PSgWCN"
      },
      "execution_count": 10,
      "outputs": []
    },
    {
      "cell_type": "code",
      "source": [
        "#najczęstsze słowa\n",
        "word_freq = Counter(all_tokens)\n",
        "print(f\"Top 10 słów: {word_freq.most_common(10)}\")"
      ],
      "metadata": {
        "colab": {
          "base_uri": "https://localhost:8080/"
        },
        "id": "Qxfj0IH_gqdO",
        "outputId": "b4e405aa-659b-4771-c086-e4728b162ae7"
      },
      "execution_count": 11,
      "outputs": [
        {
          "output_type": "stream",
          "name": "stdout",
          "text": [
            "Top 10 słów: [('product', 39), ('money', 34), ('delivery', 30), ('service', 30), ('quality', 28), ('packaging', 27), ('experience', 26), ('hate', 26), ('recommend', 26), ('horrible', 19)]\n"
          ]
        }
      ]
    },
    {
      "cell_type": "code",
      "source": [
        "#anliza sentymentu\n",
        "def get_sentiment(text):\n",
        "  blob = TextBlob(text)\n",
        "  polarity =  blob.sentiment.polarity\n",
        "  return \"positive\" if blob.sentiment.polarity > 0.0 else \"negative\" if polarity < 0.0 else \"neutral\""
      ],
      "metadata": {
        "id": "37DCILbhg8tk"
      },
      "execution_count": 14,
      "outputs": []
    },
    {
      "cell_type": "code",
      "source": [
        "results = [(txt,get_sentiment(txt)) for txt in text]"
      ],
      "metadata": {
        "id": "c2vQNBbChfyE"
      },
      "execution_count": 15,
      "outputs": []
    },
    {
      "cell_type": "code",
      "source": [
        "results"
      ],
      "metadata": {
        "colab": {
          "base_uri": "https://localhost:8080/"
        },
        "id": "nAtR7qfYhnuS",
        "outputId": "7be85faa-5185-4d1a-e36e-b6369e31a8a0"
      },
      "execution_count": 16,
      "outputs": [
        {
          "output_type": "execute_result",
          "data": {
            "text/plain": [
              "[('Terrible quality.', 'negative'),\n",
              " ('Very disappointed.', 'negative'),\n",
              " ('Awful experience.', 'negative'),\n",
              " ('I love this product!', 'positive'),\n",
              " ('I hate this product.', 'negative'),\n",
              " ('Would not recommend.', 'neutral'),\n",
              " ('Slow delivery.', 'negative'),\n",
              " ('I hate this product.', 'negative'),\n",
              " ('I love this product!', 'positive'),\n",
              " ('I hate this product.', 'negative'),\n",
              " ('I hate this product.', 'negative'),\n",
              " ('Awful experience.', 'negative'),\n",
              " ('The service was horrible.', 'negative'),\n",
              " ('Terrible quality.', 'negative'),\n",
              " ('Quick delivery!', 'positive'),\n",
              " ('Damaged packaging.', 'neutral'),\n",
              " ('Terrible quality.', 'negative'),\n",
              " ('Absolutely wonderful!', 'positive'),\n",
              " ('The service was horrible.', 'negative'),\n",
              " ('Very satisfied!', 'positive'),\n",
              " ('Absolutely wonderful!', 'positive'),\n",
              " ('Damaged packaging.', 'neutral'),\n",
              " ('I hate this product.', 'negative'),\n",
              " ('The service was horrible.', 'negative'),\n",
              " ('Fantastic experience!', 'positive'),\n",
              " ('Excellent quality!', 'positive'),\n",
              " ('I love this product!', 'positive'),\n",
              " ('Awful experience.', 'negative'),\n",
              " ('I hate this product.', 'negative'),\n",
              " ('I love this product!', 'positive'),\n",
              " ('I hate this product.', 'negative'),\n",
              " ('Great value for money!', 'positive'),\n",
              " ('The service was horrible.', 'negative'),\n",
              " ('Slow delivery.', 'negative'),\n",
              " ('I hate this product.', 'negative'),\n",
              " ('Excellent quality!', 'positive'),\n",
              " ('The service was horrible.', 'negative'),\n",
              " ('Awful experience.', 'negative'),\n",
              " ('Superb packaging!', 'positive'),\n",
              " ('Slow delivery.', 'negative'),\n",
              " ('The service was horrible.', 'negative'),\n",
              " ('The service was horrible.', 'negative'),\n",
              " ('Would not recommend.', 'neutral'),\n",
              " ('Completely useless.', 'negative'),\n",
              " ('The service was horrible.', 'negative'),\n",
              " ('I love this product!', 'positive'),\n",
              " ('Would not recommend.', 'neutral'),\n",
              " ('I love this product!', 'positive'),\n",
              " ('Quick delivery!', 'positive'),\n",
              " ('Great value for money!', 'positive'),\n",
              " ('Quick delivery!', 'positive'),\n",
              " ('Completely useless.', 'negative'),\n",
              " ('Great value for money!', 'positive'),\n",
              " ('Would not recommend.', 'neutral'),\n",
              " ('Superb packaging!', 'positive'),\n",
              " ('Highly recommend!', 'positive'),\n",
              " ('Highly recommend!', 'positive'),\n",
              " ('Great value for money!', 'positive'),\n",
              " ('Completely useless.', 'negative'),\n",
              " ('I hate this product.', 'negative'),\n",
              " ('Awful experience.', 'negative'),\n",
              " ('The service was amazing!', 'positive'),\n",
              " ('The service was amazing!', 'positive'),\n",
              " ('Superb packaging!', 'positive'),\n",
              " ('Fantastic experience!', 'positive'),\n",
              " ('Fantastic experience!', 'positive'),\n",
              " ('Fantastic experience!', 'positive'),\n",
              " ('Waste of money.', 'negative'),\n",
              " ('Completely useless.', 'negative'),\n",
              " ('Waste of money.', 'negative'),\n",
              " ('Completely useless.', 'negative'),\n",
              " ('I hate this product.', 'negative'),\n",
              " ('Great value for money!', 'positive'),\n",
              " ('The service was amazing!', 'positive'),\n",
              " ('Fantastic experience!', 'positive'),\n",
              " ('Excellent quality!', 'positive'),\n",
              " ('The service was horrible.', 'negative'),\n",
              " ('Very disappointed.', 'negative'),\n",
              " ('Superb packaging!', 'positive'),\n",
              " ('Highly recommend!', 'positive'),\n",
              " ('Waste of money.', 'negative'),\n",
              " ('Awful experience.', 'negative'),\n",
              " ('Terrible quality.', 'negative'),\n",
              " ('I hate this product.', 'negative'),\n",
              " ('The service was amazing!', 'positive'),\n",
              " ('Fantastic experience!', 'positive'),\n",
              " ('Very satisfied!', 'positive'),\n",
              " ('Excellent quality!', 'positive'),\n",
              " ('Slow delivery.', 'negative'),\n",
              " ('Awful experience.', 'negative'),\n",
              " ('Terrible quality.', 'negative'),\n",
              " ('Very satisfied!', 'positive'),\n",
              " ('Excellent quality!', 'positive'),\n",
              " ('Great value for money!', 'positive'),\n",
              " ('The service was horrible.', 'negative'),\n",
              " ('Quick delivery!', 'positive'),\n",
              " ('Superb packaging!', 'positive'),\n",
              " ('Would not recommend.', 'neutral'),\n",
              " ('Very disappointed.', 'negative'),\n",
              " ('The service was horrible.', 'negative'),\n",
              " ('Waste of money.', 'negative'),\n",
              " ('Excellent quality!', 'positive'),\n",
              " ('Terrible quality.', 'negative'),\n",
              " ('The service was horrible.', 'negative'),\n",
              " ('The service was horrible.', 'negative'),\n",
              " ('Very disappointed.', 'negative'),\n",
              " ('Great value for money!', 'positive'),\n",
              " ('Great value for money!', 'positive'),\n",
              " ('The service was amazing!', 'positive'),\n",
              " ('Great value for money!', 'positive'),\n",
              " ('Awful experience.', 'negative'),\n",
              " ('Completely useless.', 'negative'),\n",
              " ('Very satisfied!', 'positive'),\n",
              " ('Completely useless.', 'negative'),\n",
              " ('Completely useless.', 'negative'),\n",
              " ('Waste of money.', 'negative'),\n",
              " ('Fantastic experience!', 'positive'),\n",
              " ('Very satisfied!', 'positive'),\n",
              " ('Highly recommend!', 'positive'),\n",
              " ('Excellent quality!', 'positive'),\n",
              " ('Absolutely wonderful!', 'positive'),\n",
              " ('Damaged packaging.', 'neutral'),\n",
              " ('Very satisfied!', 'positive'),\n",
              " ('Quick delivery!', 'positive'),\n",
              " ('Terrible quality.', 'negative'),\n",
              " ('Absolutely wonderful!', 'positive'),\n",
              " ('Waste of money.', 'negative'),\n",
              " ('Slow delivery.', 'negative'),\n",
              " ('Quick delivery!', 'positive'),\n",
              " ('Quick delivery!', 'positive'),\n",
              " ('Awful experience.', 'negative'),\n",
              " ('Highly recommend!', 'positive'),\n",
              " ('Fantastic experience!', 'positive'),\n",
              " ('Completely useless.', 'negative'),\n",
              " ('Highly recommend!', 'positive'),\n",
              " ('Great value for money!', 'positive'),\n",
              " ('Absolutely wonderful!', 'positive'),\n",
              " ('Superb packaging!', 'positive'),\n",
              " ('Very disappointed.', 'negative'),\n",
              " ('Slow delivery.', 'negative'),\n",
              " ('Would not recommend.', 'neutral'),\n",
              " ('Completely useless.', 'negative'),\n",
              " ('Very satisfied!', 'positive'),\n",
              " ('Absolutely wonderful!', 'positive'),\n",
              " ('Slow delivery.', 'negative'),\n",
              " ('The service was amazing!', 'positive'),\n",
              " ('Waste of money.', 'negative'),\n",
              " ('Very satisfied!', 'positive'),\n",
              " ('Quick delivery!', 'positive'),\n",
              " ('Fantastic experience!', 'positive'),\n",
              " ('I love this product!', 'positive'),\n",
              " ('Highly recommend!', 'positive'),\n",
              " ('Quick delivery!', 'positive'),\n",
              " ('Waste of money.', 'negative'),\n",
              " ('The service was amazing!', 'positive'),\n",
              " ('Highly recommend!', 'positive'),\n",
              " ('Very satisfied!', 'positive'),\n",
              " ('Very satisfied!', 'positive'),\n",
              " ('The service was amazing!', 'positive'),\n",
              " ('Superb packaging!', 'positive'),\n",
              " ('I hate this product.', 'negative'),\n",
              " ('Very satisfied!', 'positive'),\n",
              " ('I hate this product.', 'negative'),\n",
              " ('Excellent quality!', 'positive'),\n",
              " ('Terrible quality.', 'negative'),\n",
              " ('The service was amazing!', 'positive'),\n",
              " ('Quick delivery!', 'positive'),\n",
              " ('I hate this product.', 'negative'),\n",
              " ('Great value for money!', 'positive'),\n",
              " ('Damaged packaging.', 'neutral'),\n",
              " ('The service was horrible.', 'negative'),\n",
              " ('Damaged packaging.', 'neutral'),\n",
              " ('I hate this product.', 'negative'),\n",
              " ('I hate this product.', 'negative'),\n",
              " ('Would not recommend.', 'neutral'),\n",
              " ('Absolutely wonderful!', 'positive'),\n",
              " ('Excellent quality!', 'positive'),\n",
              " ('I hate this product.', 'negative'),\n",
              " ('Damaged packaging.', 'neutral'),\n",
              " ('Completely useless.', 'negative'),\n",
              " ('Very satisfied!', 'positive'),\n",
              " ('I hate this product.', 'negative'),\n",
              " ('The service was horrible.', 'negative'),\n",
              " ('Fantastic experience!', 'positive'),\n",
              " ('Slow delivery.', 'negative'),\n",
              " ('Damaged packaging.', 'neutral'),\n",
              " ('I love this product!', 'positive'),\n",
              " ('Very disappointed.', 'negative'),\n",
              " ('Highly recommend!', 'positive'),\n",
              " ('Absolutely wonderful!', 'positive'),\n",
              " ('Excellent quality!', 'positive'),\n",
              " ('Completely useless.', 'negative'),\n",
              " ('Fantastic experience!', 'positive'),\n",
              " ('Superb packaging!', 'positive'),\n",
              " ('Great value for money!', 'positive'),\n",
              " ('Would not recommend.', 'neutral'),\n",
              " ('Fantastic experience!', 'positive'),\n",
              " ('Highly recommend!', 'positive'),\n",
              " ('Quick delivery!', 'positive'),\n",
              " ('Excellent quality!', 'positive'),\n",
              " ('I love this product!', 'positive'),\n",
              " ('Absolutely wonderful!', 'positive'),\n",
              " ('Would not recommend.', 'neutral'),\n",
              " ('I love this product!', 'positive'),\n",
              " ('Superb packaging!', 'positive'),\n",
              " ('Very satisfied!', 'positive'),\n",
              " ('Absolutely wonderful!', 'positive'),\n",
              " ('Waste of money.', 'negative'),\n",
              " ('I hate this product.', 'negative'),\n",
              " ('Damaged packaging.', 'neutral'),\n",
              " ('Damaged packaging.', 'neutral'),\n",
              " ('The service was horrible.', 'negative'),\n",
              " ('Would not recommend.', 'neutral'),\n",
              " ('Absolutely wonderful!', 'positive'),\n",
              " ('Damaged packaging.', 'neutral'),\n",
              " ('Waste of money.', 'negative'),\n",
              " ('Completely useless.', 'negative'),\n",
              " ('Excellent quality!', 'positive'),\n",
              " ('Awful experience.', 'negative'),\n",
              " ('Excellent quality!', 'positive'),\n",
              " ('Absolutely wonderful!', 'positive'),\n",
              " ('Absolutely wonderful!', 'positive'),\n",
              " ('I hate this product.', 'negative'),\n",
              " ('I love this product!', 'positive'),\n",
              " ('I hate this product.', 'negative'),\n",
              " ('Completely useless.', 'negative'),\n",
              " ('Excellent quality!', 'positive'),\n",
              " ('I love this product!', 'positive'),\n",
              " ('Excellent quality!', 'positive'),\n",
              " ('Waste of money.', 'negative'),\n",
              " ('Terrible quality.', 'negative'),\n",
              " ('Absolutely wonderful!', 'positive'),\n",
              " ('Waste of money.', 'negative'),\n",
              " ('Absolutely wonderful!', 'positive'),\n",
              " ('The service was horrible.', 'negative'),\n",
              " ('Highly recommend!', 'positive'),\n",
              " ('Completely useless.', 'negative'),\n",
              " ('Terrible quality.', 'negative'),\n",
              " ('Superb packaging!', 'positive'),\n",
              " ('Quick delivery!', 'positive'),\n",
              " ('Superb packaging!', 'positive'),\n",
              " ('Slow delivery.', 'negative'),\n",
              " ('Damaged packaging.', 'neutral'),\n",
              " ('Waste of money.', 'negative'),\n",
              " ('Quick delivery!', 'positive'),\n",
              " ('The service was amazing!', 'positive'),\n",
              " ('Absolutely wonderful!', 'positive'),\n",
              " ('Superb packaging!', 'positive'),\n",
              " ('Superb packaging!', 'positive'),\n",
              " ('Fantastic experience!', 'positive'),\n",
              " ('Slow delivery.', 'negative'),\n",
              " ('Damaged packaging.', 'neutral'),\n",
              " ('Terrible quality.', 'negative'),\n",
              " ('Completely useless.', 'negative'),\n",
              " ('I hate this product.', 'negative'),\n",
              " ('Excellent quality!', 'positive'),\n",
              " ('Great value for money!', 'positive'),\n",
              " ('Highly recommend!', 'positive'),\n",
              " ('Very satisfied!', 'positive'),\n",
              " ('Fantastic experience!', 'positive'),\n",
              " ('Terrible quality.', 'negative'),\n",
              " ('I hate this product.', 'negative'),\n",
              " ('Waste of money.', 'negative'),\n",
              " ('Great value for money!', 'positive'),\n",
              " ('Great value for money!', 'positive'),\n",
              " ('Great value for money!', 'positive'),\n",
              " ('Slow delivery.', 'negative'),\n",
              " ('Waste of money.', 'negative'),\n",
              " ('Very satisfied!', 'positive'),\n",
              " ('Completely useless.', 'negative'),\n",
              " ('Quick delivery!', 'positive'),\n",
              " ('Quick delivery!', 'positive'),\n",
              " ('Waste of money.', 'negative'),\n",
              " ('Great value for money!', 'positive'),\n",
              " ('I hate this product.', 'negative'),\n",
              " ('I hate this product.', 'negative'),\n",
              " ('Very disappointed.', 'negative'),\n",
              " ('The service was horrible.', 'negative'),\n",
              " ('Very satisfied!', 'positive'),\n",
              " ('Quick delivery!', 'positive'),\n",
              " ('Damaged packaging.', 'neutral'),\n",
              " ('Would not recommend.', 'neutral'),\n",
              " ('Would not recommend.', 'neutral'),\n",
              " ('Quick delivery!', 'positive'),\n",
              " ('The service was amazing!', 'positive'),\n",
              " ('Very disappointed.', 'negative'),\n",
              " ('Fantastic experience!', 'positive'),\n",
              " ('Would not recommend.', 'neutral'),\n",
              " ('Quick delivery!', 'positive'),\n",
              " ('I love this product!', 'positive'),\n",
              " ('Very satisfied!', 'positive'),\n",
              " ('Completely useless.', 'negative'),\n",
              " ('Slow delivery.', 'negative'),\n",
              " ('Waste of money.', 'negative'),\n",
              " ('I hate this product.', 'negative'),\n",
              " ('Very satisfied!', 'positive'),\n",
              " ('Would not recommend.', 'neutral'),\n",
              " ('Awful experience.', 'negative'),\n",
              " ('Superb packaging!', 'positive'),\n",
              " ('The service was horrible.', 'negative')]"
            ]
          },
          "metadata": {},
          "execution_count": 16
        }
      ]
    }
  ]
}