{
 "cells": [
  {
   "cell_type": "markdown",
   "id": "3ffd28a2",
   "metadata": {},
   "source": [
    "# Zadanie 2 – Klasyfikacja intencji użytkownika\n",
    "W tym ćwiczeniu stworzymy prosty klasyfikator intencji wypowiedzi użytkownika przy użyciu tokenizacji, sekwencji i sieci neuronowej."
   ]
  },
  {
   "cell_type": "code",
   "execution_count": null,
   "id": "3a43c64a",
   "metadata": {},
   "outputs": [],
   "source": [
    "# Instalacja wymaganych bibliotek (jeśli potrzebne)\n",
    "# !pip install tensorflow scikit-learn pandas\n",
    "import tensorflow as tf\n",
    "from tensorflow.keras.preprocessing.text import Tokenizer\n",
    "from tensorflow.keras.preprocessing.sequence import pad_sequences\n",
    "from sklearn.model_selection import train_test_split\n",
    "import pandas as pd"
   ]
  },
  {
   "cell_type": "markdown",
   "id": "d257d22b",
   "metadata": {},
   "source": [
    "## Dane wejściowe"
   ]
  },
  {
   "cell_type": "code",
   "execution_count": null,
   "id": "9aece61d",
   "metadata": {},
   "outputs": [],
   "source": [
    "data = {\n",
    "    \"text\": [\n",
    "        \"Chciałbym zamówić pizzę\",\n",
    "        \"Pokaż mi pogodę w Warszawie\",\n",
    "        \"Jakie są twoje godziny otwarcia?\",\n",
    "        \"Czy mogę zmienić termin wizyty?\",\n",
    "        \"Potrzebuję pomocy z logowaniem\",\n",
    "        \"Zarezerwuj stolik na jutro\",\n",
    "        \"Wyślij mi fakturę\",\n",
    "        \"Jak mogę się z tobą skontaktować?\",\n",
    "        \"Jaka jest cena tego produktu?\"\n",
    "    ],\n",
    "    \"intent\": [\n",
    "        \"zamówienie_jedzenia\",\n",
    "        \"sprawdzenie_pogody\",\n",
    "        \"informacja_godziny\",\n",
    "        \"zmiana_terminu\",\n",
    "        \"wsparcie_logowanie\",\n",
    "        \"rezerwacja\",\n",
    "        \"żądanie_faktury\",\n",
    "        \"kontakt\",\n",
    "        \"informacja_cena\"\n",
    "    ]\n",
    "}\n",
    "df = pd.DataFrame(data)\n",
    "df"
   ]
  },
  {
   "cell_type": "markdown",
   "id": "6f71bb87",
   "metadata": {},
   "source": [
    "## Przygotowanie danych"
   ]
  },
  {
   "cell_type": "code",
   "execution_count": null,
   "id": "0b7595fc",
   "metadata": {},
   "outputs": [],
   "source": [
    "tokenizer = Tokenizer(num_words=1000, oov_token=\"<OOV>\")\n",
    "tokenizer.fit_on_texts(df['text'])\n",
    "sequences = tokenizer.texts_to_sequences(df['text'])\n",
    "padded = pad_sequences(sequences, maxlen=10, padding='post')\n",
    "\n",
    "label2id = {label: i for i, label in enumerate(df['intent'].unique())}\n",
    "id2label = {v: k for k, v in label2id.items()}\n",
    "labels = df['intent'].map(label2id).values"
   ]
  },
  {
   "cell_type": "markdown",
   "id": "028e18c2",
   "metadata": {},
   "source": [
    "## Budowa modelu"
   ]
  },
  {
   "cell_type": "code",
   "execution_count": null,
   "id": "ec04496d",
   "metadata": {},
   "outputs": [],
   "source": [
    "model = tf.keras.Sequential([\n",
    "    tf.keras.layers.Embedding(input_dim=1000, output_dim=16, input_length=10),\n",
    "    tf.keras.layers.GlobalAveragePooling1D(),\n",
    "    tf.keras.layers.Dense(16, activation='relu'),\n",
    "    tf.keras.layers.Dense(len(label2id), activation='softmax')\n",
    "])\n",
    "\n",
    "model.compile(loss='sparse_categorical_crossentropy', optimizer='adam', metrics=['accuracy'])\n",
    "model.summary()"
   ]
  },
  {
   "cell_type": "markdown",
   "id": "adb57193",
   "metadata": {},
   "source": [
    "## Trening modelu"
   ]
  },
  {
   "cell_type": "code",
   "execution_count": null,
   "id": "ef8d41fd",
   "metadata": {},
   "outputs": [],
   "source": [
    "X_train, X_test, y_train, y_test = train_test_split(padded, labels, test_size=0.2, random_state=42)\n",
    "model.fit(X_train, y_train, epochs=20, validation_data=(X_test, y_test))"
   ]
  },
  {
   "cell_type": "markdown",
   "id": "398ad770",
   "metadata": {},
   "source": [
    "## Predykcja nowych intencji"
   ]
  },
  {
   "cell_type": "code",
   "execution_count": null,
   "id": "42a16b5d",
   "metadata": {},
   "outputs": [],
   "source": [
    "test_sentences = [\n",
    "    \"Czy mogę dostać fakturę?\",\n",
    "    \"Potrzebuję pomocy przy logowaniu\",\n",
    "    \"Pokaż pogodę na jutro\",\n",
    "    \"Zamów dla mnie pizzę na jutro\"\n",
    "]\n",
    "test_seq = tokenizer.texts_to_sequences(test_sentences)\n",
    "test_pad = pad_sequences(test_seq, maxlen=10, padding='post')\n",
    "pred = model.predict(test_pad)\n",
    "for i, p in enumerate(pred):\n",
    "    intent = id2label[p.argmax()]\n",
    "    print(f\"{test_sentences[i]} -> {intent}\")"
   ]
  }
 ],
 "metadata": {
  "kernelspec": {
   "display_name": "Python 3",
   "language": "python",
   "name": "python3"
  }
 },
 "nbformat": 4,
 "nbformat_minor": 5
}