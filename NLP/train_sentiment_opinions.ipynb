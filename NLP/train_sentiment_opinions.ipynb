{
  "nbformat": 4,
  "nbformat_minor": 0,
  "metadata": {
    "colab": {
      "provenance": []
    },
    "kernelspec": {
      "name": "python3",
      "display_name": "Python 3"
    },
    "language_info": {
      "name": "python"
    }
  },
  "cells": [
    {
      "cell_type": "code",
      "execution_count": 1,
      "metadata": {
        "id": "deH_jkFvi0h9"
      },
      "outputs": [],
      "source": [
        "import pandas as pd\n",
        "import numpy as np\n",
        "import tensorflow as tf\n",
        "from sklearn.model_selection import train_test_split\n",
        "from tensorflow.keras.preprocessing.text import Tokenizer\n",
        "from tensorflow.keras.preprocessing.sequence import pad_sequences\n",
        "import matplotlib.pyplot as plt"
      ]
    },
    {
      "cell_type": "code",
      "source": [
        "#wczytanie danych\n",
        "with open(\"opinions.txt\",\"r\",encoding=\"utf-8\") as f:\n",
        "  lines = [line.strip() for line in f if line.strip()]"
      ],
      "metadata": {
        "id": "miWIRNMNjNWn"
      },
      "execution_count": 2,
      "outputs": []
    },
    {
      "cell_type": "code",
      "source": [
        "#heurystyczne przzypisywanie etykiet\n",
        "texts = lines\n",
        "labels = [1 if \"!\" in line else 0 for line in lines] #1 - pozytywna, 0- negatywna\n"
      ],
      "metadata": {
        "id": "XAjK9UKVjobA"
      },
      "execution_count": 3,
      "outputs": []
    },
    {
      "cell_type": "code",
      "source": [
        "#tokenizacja tekstu\n",
        "tokenizer = Tokenizer(num_words=1000,oov_token=\"<OOV>\")\n",
        "tokenizer.fit_on_texts(texts)\n",
        "sequences = tokenizer.texts_to_sequences(texts)\n",
        "padded = pad_sequences(sequences,maxlen=100,padding=\"post\")"
      ],
      "metadata": {
        "id": "Rvt-r2GukRHV"
      },
      "execution_count": 4,
      "outputs": []
    },
    {
      "cell_type": "code",
      "source": [
        "#podział na zbiór treningowy i testowy\n",
        "X_train, X_test, y_train, y_test = train_test_split(padded, labels, test_size=0.2, random_state=42)"
      ],
      "metadata": {
        "id": "1d_AAbLUk6px"
      },
      "execution_count": 5,
      "outputs": []
    },
    {
      "cell_type": "code",
      "source": [
        "#budowa modelu sieci neuronowej\n",
        "model = tf.keras.Sequential([\n",
        "    tf.keras.layers.Embedding(input_dim=1000, output_dim=16, input_length=20),\n",
        "    tf.keras.layers.GlobalAveragePooling1D(),\n",
        "    tf.keras.layers.Dense(16, activation='relu'),\n",
        "    tf.keras.layers.Dense(1, activation='sigmoid')\n",
        "])"
      ],
      "metadata": {
        "colab": {
          "base_uri": "https://localhost:8080/"
        },
        "id": "OWvB0UB9lHit",
        "outputId": "f5f332eb-8640-4285-db4c-bedcc32c14fb"
      },
      "execution_count": 7,
      "outputs": [
        {
          "output_type": "stream",
          "name": "stderr",
          "text": [
            "/usr/local/lib/python3.11/dist-packages/keras/src/layers/core/embedding.py:90: UserWarning: Argument `input_length` is deprecated. Just remove it.\n",
            "  warnings.warn(\n"
          ]
        }
      ]
    },
    {
      "cell_type": "code",
      "source": [
        "#kompilacja model\n",
        "model.compile(loss='binary_crossentropy', optimizer='adam', metrics=['accuracy'])"
      ],
      "metadata": {
        "id": "oxBs1CB1mN60"
      },
      "execution_count": 8,
      "outputs": []
    },
    {
      "cell_type": "code",
      "source": [
        "#trenowanie modelu\n",
        "history = model.fit(\n",
        "    np.array(X_train),\n",
        "    np.array(y_train),\n",
        "    epochs=70,\n",
        "    validation_data=(np.array(X_test), np.array(y_test))\n",
        "    )"
      ],
      "metadata": {
        "colab": {
          "base_uri": "https://localhost:8080/"
        },
        "id": "XzYWGeiymYUo",
        "outputId": "eb5977ef-3abf-4f63-f72e-5be930cb6b3c"
      },
      "execution_count": 10,
      "outputs": [
        {
          "output_type": "stream",
          "name": "stdout",
          "text": [
            "Epoch 1/70\n",
            "\u001b[1m8/8\u001b[0m \u001b[32m━━━━━━━━━━━━━━━━━━━━\u001b[0m\u001b[37m\u001b[0m \u001b[1m0s\u001b[0m 26ms/step - accuracy: 0.4981 - loss: 0.6929 - val_accuracy: 0.4500 - val_loss: 0.6940\n",
            "Epoch 2/70\n",
            "\u001b[1m8/8\u001b[0m \u001b[32m━━━━━━━━━━━━━━━━━━━━\u001b[0m\u001b[37m\u001b[0m \u001b[1m0s\u001b[0m 25ms/step - accuracy: 0.5110 - loss: 0.6925 - val_accuracy: 0.4500 - val_loss: 0.6939\n",
            "Epoch 3/70\n",
            "\u001b[1m8/8\u001b[0m \u001b[32m━━━━━━━━━━━━━━━━━━━━\u001b[0m\u001b[37m\u001b[0m \u001b[1m0s\u001b[0m 26ms/step - accuracy: 0.5198 - loss: 0.6921 - val_accuracy: 0.4500 - val_loss: 0.6942\n",
            "Epoch 4/70\n",
            "\u001b[1m8/8\u001b[0m \u001b[32m━━━━━━━━━━━━━━━━━━━━\u001b[0m\u001b[37m\u001b[0m \u001b[1m0s\u001b[0m 19ms/step - accuracy: 0.5291 - loss: 0.6916 - val_accuracy: 0.4500 - val_loss: 0.6949\n",
            "Epoch 5/70\n",
            "\u001b[1m8/8\u001b[0m \u001b[32m━━━━━━━━━━━━━━━━━━━━\u001b[0m\u001b[37m\u001b[0m \u001b[1m0s\u001b[0m 23ms/step - accuracy: 0.5118 - loss: 0.6919 - val_accuracy: 0.4500 - val_loss: 0.6951\n",
            "Epoch 6/70\n",
            "\u001b[1m8/8\u001b[0m \u001b[32m━━━━━━━━━━━━━━━━━━━━\u001b[0m\u001b[37m\u001b[0m \u001b[1m0s\u001b[0m 24ms/step - accuracy: 0.4846 - loss: 0.6933 - val_accuracy: 0.4500 - val_loss: 0.6950\n",
            "Epoch 7/70\n",
            "\u001b[1m8/8\u001b[0m \u001b[32m━━━━━━━━━━━━━━━━━━━━\u001b[0m\u001b[37m\u001b[0m \u001b[1m0s\u001b[0m 22ms/step - accuracy: 0.5367 - loss: 0.6904 - val_accuracy: 0.4500 - val_loss: 0.6949\n",
            "Epoch 8/70\n",
            "\u001b[1m8/8\u001b[0m \u001b[32m━━━━━━━━━━━━━━━━━━━━\u001b[0m\u001b[37m\u001b[0m \u001b[1m0s\u001b[0m 26ms/step - accuracy: 0.4863 - loss: 0.6929 - val_accuracy: 0.4500 - val_loss: 0.6943\n",
            "Epoch 9/70\n",
            "\u001b[1m8/8\u001b[0m \u001b[32m━━━━━━━━━━━━━━━━━━━━\u001b[0m\u001b[37m\u001b[0m \u001b[1m0s\u001b[0m 25ms/step - accuracy: 0.5311 - loss: 0.6906 - val_accuracy: 0.4500 - val_loss: 0.6947\n",
            "Epoch 10/70\n",
            "\u001b[1m8/8\u001b[0m \u001b[32m━━━━━━━━━━━━━━━━━━━━\u001b[0m\u001b[37m\u001b[0m \u001b[1m0s\u001b[0m 14ms/step - accuracy: 0.5655 - loss: 0.6887 - val_accuracy: 0.4500 - val_loss: 0.6953\n",
            "Epoch 11/70\n",
            "\u001b[1m8/8\u001b[0m \u001b[32m━━━━━━━━━━━━━━━━━━━━\u001b[0m\u001b[37m\u001b[0m \u001b[1m0s\u001b[0m 16ms/step - accuracy: 0.5480 - loss: 0.6888 - val_accuracy: 0.4500 - val_loss: 0.6944\n",
            "Epoch 12/70\n",
            "\u001b[1m8/8\u001b[0m \u001b[32m━━━━━━━━━━━━━━━━━━━━\u001b[0m\u001b[37m\u001b[0m \u001b[1m0s\u001b[0m 13ms/step - accuracy: 0.5419 - loss: 0.6893 - val_accuracy: 0.4500 - val_loss: 0.6939\n",
            "Epoch 13/70\n",
            "\u001b[1m8/8\u001b[0m \u001b[32m━━━━━━━━━━━━━━━━━━━━\u001b[0m\u001b[37m\u001b[0m \u001b[1m0s\u001b[0m 14ms/step - accuracy: 0.5288 - loss: 0.6898 - val_accuracy: 0.4500 - val_loss: 0.6928\n",
            "Epoch 14/70\n",
            "\u001b[1m8/8\u001b[0m \u001b[32m━━━━━━━━━━━━━━━━━━━━\u001b[0m\u001b[37m\u001b[0m \u001b[1m0s\u001b[0m 14ms/step - accuracy: 0.5361 - loss: 0.6897 - val_accuracy: 0.4500 - val_loss: 0.6936\n",
            "Epoch 15/70\n",
            "\u001b[1m8/8\u001b[0m \u001b[32m━━━━━━━━━━━━━━━━━━━━\u001b[0m\u001b[37m\u001b[0m \u001b[1m0s\u001b[0m 14ms/step - accuracy: 0.5016 - loss: 0.6908 - val_accuracy: 0.4500 - val_loss: 0.6930\n",
            "Epoch 16/70\n",
            "\u001b[1m8/8\u001b[0m \u001b[32m━━━━━━━━━━━━━━━━━━━━\u001b[0m\u001b[37m\u001b[0m \u001b[1m0s\u001b[0m 19ms/step - accuracy: 0.4863 - loss: 0.6910 - val_accuracy: 0.4500 - val_loss: 0.6914\n",
            "Epoch 17/70\n",
            "\u001b[1m8/8\u001b[0m \u001b[32m━━━━━━━━━━━━━━━━━━━━\u001b[0m\u001b[37m\u001b[0m \u001b[1m0s\u001b[0m 15ms/step - accuracy: 0.5152 - loss: 0.6897 - val_accuracy: 0.4500 - val_loss: 0.6933\n",
            "Epoch 18/70\n",
            "\u001b[1m8/8\u001b[0m \u001b[32m━━━━━━━━━━━━━━━━━━━━\u001b[0m\u001b[37m\u001b[0m \u001b[1m0s\u001b[0m 19ms/step - accuracy: 0.5431 - loss: 0.6878 - val_accuracy: 0.4500 - val_loss: 0.6948\n",
            "Epoch 19/70\n",
            "\u001b[1m8/8\u001b[0m \u001b[32m━━━━━━━━━━━━━━━━━━━━\u001b[0m\u001b[37m\u001b[0m \u001b[1m0s\u001b[0m 13ms/step - accuracy: 0.4992 - loss: 0.6906 - val_accuracy: 0.4500 - val_loss: 0.6916\n",
            "Epoch 20/70\n",
            "\u001b[1m8/8\u001b[0m \u001b[32m━━━━━━━━━━━━━━━━━━━━\u001b[0m\u001b[37m\u001b[0m \u001b[1m0s\u001b[0m 13ms/step - accuracy: 0.5631 - loss: 0.6896 - val_accuracy: 0.9167 - val_loss: 0.6893\n",
            "Epoch 21/70\n",
            "\u001b[1m8/8\u001b[0m \u001b[32m━━━━━━━━━━━━━━━━━━━━\u001b[0m\u001b[37m\u001b[0m \u001b[1m0s\u001b[0m 14ms/step - accuracy: 0.9153 - loss: 0.6885 - val_accuracy: 0.5000 - val_loss: 0.6893\n",
            "Epoch 22/70\n",
            "\u001b[1m8/8\u001b[0m \u001b[32m━━━━━━━━━━━━━━━━━━━━\u001b[0m\u001b[37m\u001b[0m \u001b[1m0s\u001b[0m 18ms/step - accuracy: 0.5588 - loss: 0.6876 - val_accuracy: 0.4500 - val_loss: 0.6894\n",
            "Epoch 23/70\n",
            "\u001b[1m8/8\u001b[0m \u001b[32m━━━━━━━━━━━━━━━━━━━━\u001b[0m\u001b[37m\u001b[0m \u001b[1m0s\u001b[0m 15ms/step - accuracy: 0.5784 - loss: 0.6876 - val_accuracy: 0.5000 - val_loss: 0.6885\n",
            "Epoch 24/70\n",
            "\u001b[1m8/8\u001b[0m \u001b[32m━━━━━━━━━━━━━━━━━━━━\u001b[0m\u001b[37m\u001b[0m \u001b[1m0s\u001b[0m 14ms/step - accuracy: 0.6079 - loss: 0.6860 - val_accuracy: 0.4500 - val_loss: 0.6887\n",
            "Epoch 25/70\n",
            "\u001b[1m8/8\u001b[0m \u001b[32m━━━━━━━━━━━━━━━━━━━━\u001b[0m\u001b[37m\u001b[0m \u001b[1m0s\u001b[0m 15ms/step - accuracy: 0.5414 - loss: 0.6854 - val_accuracy: 0.4500 - val_loss: 0.6887\n",
            "Epoch 26/70\n",
            "\u001b[1m8/8\u001b[0m \u001b[32m━━━━━━━━━━━━━━━━━━━━\u001b[0m\u001b[37m\u001b[0m \u001b[1m0s\u001b[0m 14ms/step - accuracy: 0.5899 - loss: 0.6852 - val_accuracy: 0.5500 - val_loss: 0.6815\n",
            "Epoch 27/70\n",
            "\u001b[1m8/8\u001b[0m \u001b[32m━━━━━━━━━━━━━━━━━━━━\u001b[0m\u001b[37m\u001b[0m \u001b[1m0s\u001b[0m 14ms/step - accuracy: 0.5244 - loss: 0.6819 - val_accuracy: 0.7833 - val_loss: 0.6835\n",
            "Epoch 28/70\n",
            "\u001b[1m8/8\u001b[0m \u001b[32m━━━━━━━━━━━━━━━━━━━━\u001b[0m\u001b[37m\u001b[0m \u001b[1m0s\u001b[0m 14ms/step - accuracy: 0.6275 - loss: 0.6812 - val_accuracy: 0.4500 - val_loss: 0.6850\n",
            "Epoch 29/70\n",
            "\u001b[1m8/8\u001b[0m \u001b[32m━━━━━━━━━━━━━━━━━━━━\u001b[0m\u001b[37m\u001b[0m \u001b[1m0s\u001b[0m 19ms/step - accuracy: 0.5242 - loss: 0.6779 - val_accuracy: 0.4500 - val_loss: 0.6857\n",
            "Epoch 30/70\n",
            "\u001b[1m8/8\u001b[0m \u001b[32m━━━━━━━━━━━━━━━━━━━━\u001b[0m\u001b[37m\u001b[0m \u001b[1m0s\u001b[0m 13ms/step - accuracy: 0.5345 - loss: 0.6803 - val_accuracy: 0.5833 - val_loss: 0.6749\n",
            "Epoch 31/70\n",
            "\u001b[1m8/8\u001b[0m \u001b[32m━━━━━━━━━━━━━━━━━━━━\u001b[0m\u001b[37m\u001b[0m \u001b[1m0s\u001b[0m 14ms/step - accuracy: 0.7465 - loss: 0.6736 - val_accuracy: 0.4500 - val_loss: 0.6832\n",
            "Epoch 32/70\n",
            "\u001b[1m8/8\u001b[0m \u001b[32m━━━━━━━━━━━━━━━━━━━━\u001b[0m\u001b[37m\u001b[0m \u001b[1m0s\u001b[0m 16ms/step - accuracy: 0.5324 - loss: 0.6714 - val_accuracy: 0.5000 - val_loss: 0.6781\n",
            "Epoch 33/70\n",
            "\u001b[1m8/8\u001b[0m \u001b[32m━━━━━━━━━━━━━━━━━━━━\u001b[0m\u001b[37m\u001b[0m \u001b[1m0s\u001b[0m 14ms/step - accuracy: 0.7287 - loss: 0.6700 - val_accuracy: 0.5833 - val_loss: 0.6685\n",
            "Epoch 34/70\n",
            "\u001b[1m8/8\u001b[0m \u001b[32m━━━━━━━━━━━━━━━━━━━━\u001b[0m\u001b[37m\u001b[0m \u001b[1m0s\u001b[0m 20ms/step - accuracy: 0.7191 - loss: 0.6682 - val_accuracy: 0.7000 - val_loss: 0.6728\n",
            "Epoch 35/70\n",
            "\u001b[1m8/8\u001b[0m \u001b[32m━━━━━━━━━━━━━━━━━━━━\u001b[0m\u001b[37m\u001b[0m \u001b[1m0s\u001b[0m 45ms/step - accuracy: 0.6020 - loss: 0.6680 - val_accuracy: 0.5000 - val_loss: 0.6730\n",
            "Epoch 36/70\n",
            "\u001b[1m8/8\u001b[0m \u001b[32m━━━━━━━━━━━━━━━━━━━━\u001b[0m\u001b[37m\u001b[0m \u001b[1m0s\u001b[0m 14ms/step - accuracy: 0.7648 - loss: 0.6634 - val_accuracy: 0.9167 - val_loss: 0.6655\n",
            "Epoch 37/70\n",
            "\u001b[1m8/8\u001b[0m \u001b[32m━━━━━━━━━━━━━━━━━━━━\u001b[0m\u001b[37m\u001b[0m \u001b[1m0s\u001b[0m 19ms/step - accuracy: 0.8724 - loss: 0.6618 - val_accuracy: 0.7667 - val_loss: 0.6603\n",
            "Epoch 38/70\n",
            "\u001b[1m8/8\u001b[0m \u001b[32m━━━━━━━━━━━━━━━━━━━━\u001b[0m\u001b[37m\u001b[0m \u001b[1m0s\u001b[0m 14ms/step - accuracy: 0.8326 - loss: 0.6576 - val_accuracy: 0.5000 - val_loss: 0.6661\n",
            "Epoch 39/70\n",
            "\u001b[1m8/8\u001b[0m \u001b[32m━━━━━━━━━━━━━━━━━━━━\u001b[0m\u001b[37m\u001b[0m \u001b[1m0s\u001b[0m 14ms/step - accuracy: 0.6799 - loss: 0.6609 - val_accuracy: 0.9500 - val_loss: 0.6554\n",
            "Epoch 40/70\n",
            "\u001b[1m8/8\u001b[0m \u001b[32m━━━━━━━━━━━━━━━━━━━━\u001b[0m\u001b[37m\u001b[0m \u001b[1m0s\u001b[0m 18ms/step - accuracy: 0.7351 - loss: 0.6535 - val_accuracy: 0.9167 - val_loss: 0.6532\n",
            "Epoch 41/70\n",
            "\u001b[1m8/8\u001b[0m \u001b[32m━━━━━━━━━━━━━━━━━━━━\u001b[0m\u001b[37m\u001b[0m \u001b[1m0s\u001b[0m 14ms/step - accuracy: 0.7703 - loss: 0.6492 - val_accuracy: 0.6500 - val_loss: 0.6444\n",
            "Epoch 42/70\n",
            "\u001b[1m8/8\u001b[0m \u001b[32m━━━━━━━━━━━━━━━━━━━━\u001b[0m\u001b[37m\u001b[0m \u001b[1m0s\u001b[0m 14ms/step - accuracy: 0.7286 - loss: 0.6478 - val_accuracy: 0.5000 - val_loss: 0.6565\n",
            "Epoch 43/70\n",
            "\u001b[1m8/8\u001b[0m \u001b[32m━━━━━━━━━━━━━━━━━━━━\u001b[0m\u001b[37m\u001b[0m \u001b[1m0s\u001b[0m 14ms/step - accuracy: 0.6318 - loss: 0.6398 - val_accuracy: 0.7667 - val_loss: 0.6383\n",
            "Epoch 44/70\n",
            "\u001b[1m8/8\u001b[0m \u001b[32m━━━━━━━━━━━━━━━━━━━━\u001b[0m\u001b[37m\u001b[0m \u001b[1m0s\u001b[0m 14ms/step - accuracy: 0.8894 - loss: 0.6319 - val_accuracy: 0.9167 - val_loss: 0.6402\n",
            "Epoch 45/70\n",
            "\u001b[1m8/8\u001b[0m \u001b[32m━━━━━━━━━━━━━━━━━━━━\u001b[0m\u001b[37m\u001b[0m \u001b[1m0s\u001b[0m 14ms/step - accuracy: 0.7724 - loss: 0.6274 - val_accuracy: 0.9167 - val_loss: 0.6333\n",
            "Epoch 46/70\n",
            "\u001b[1m8/8\u001b[0m \u001b[32m━━━━━━━━━━━━━━━━━━━━\u001b[0m\u001b[37m\u001b[0m \u001b[1m0s\u001b[0m 12ms/step - accuracy: 0.7996 - loss: 0.6245 - val_accuracy: 0.8167 - val_loss: 0.6236\n",
            "Epoch 47/70\n",
            "\u001b[1m8/8\u001b[0m \u001b[32m━━━━━━━━━━━━━━━━━━━━\u001b[0m\u001b[37m\u001b[0m \u001b[1m0s\u001b[0m 16ms/step - accuracy: 0.8731 - loss: 0.6174 - val_accuracy: 0.8667 - val_loss: 0.6297\n",
            "Epoch 48/70\n",
            "\u001b[1m8/8\u001b[0m \u001b[32m━━━━━━━━━━━━━━━━━━━━\u001b[0m\u001b[37m\u001b[0m \u001b[1m0s\u001b[0m 20ms/step - accuracy: 0.8875 - loss: 0.6117 - val_accuracy: 0.9500 - val_loss: 0.6152\n",
            "Epoch 49/70\n",
            "\u001b[1m8/8\u001b[0m \u001b[32m━━━━━━━━━━━━━━━━━━━━\u001b[0m\u001b[37m\u001b[0m \u001b[1m0s\u001b[0m 15ms/step - accuracy: 0.9496 - loss: 0.6050 - val_accuracy: 0.9167 - val_loss: 0.6176\n",
            "Epoch 50/70\n",
            "\u001b[1m8/8\u001b[0m \u001b[32m━━━━━━━━━━━━━━━━━━━━\u001b[0m\u001b[37m\u001b[0m \u001b[1m0s\u001b[0m 14ms/step - accuracy: 0.8839 - loss: 0.5942 - val_accuracy: 0.8167 - val_loss: 0.6000\n",
            "Epoch 51/70\n",
            "\u001b[1m8/8\u001b[0m \u001b[32m━━━━━━━━━━━━━━━━━━━━\u001b[0m\u001b[37m\u001b[0m \u001b[1m0s\u001b[0m 14ms/step - accuracy: 0.8200 - loss: 0.5943 - val_accuracy: 0.9167 - val_loss: 0.5997\n",
            "Epoch 52/70\n",
            "\u001b[1m8/8\u001b[0m \u001b[32m━━━━━━━━━━━━━━━━━━━━\u001b[0m\u001b[37m\u001b[0m \u001b[1m0s\u001b[0m 17ms/step - accuracy: 0.8512 - loss: 0.5834 - val_accuracy: 0.7667 - val_loss: 0.5878\n",
            "Epoch 53/70\n",
            "\u001b[1m8/8\u001b[0m \u001b[32m━━━━━━━━━━━━━━━━━━━━\u001b[0m\u001b[37m\u001b[0m \u001b[1m0s\u001b[0m 14ms/step - accuracy: 0.7966 - loss: 0.5796 - val_accuracy: 0.9167 - val_loss: 0.5932\n",
            "Epoch 54/70\n",
            "\u001b[1m8/8\u001b[0m \u001b[32m━━━━━━━━━━━━━━━━━━━━\u001b[0m\u001b[37m\u001b[0m \u001b[1m0s\u001b[0m 14ms/step - accuracy: 0.7097 - loss: 0.5880 - val_accuracy: 0.6500 - val_loss: 0.5778\n",
            "Epoch 55/70\n",
            "\u001b[1m8/8\u001b[0m \u001b[32m━━━━━━━━━━━━━━━━━━━━\u001b[0m\u001b[37m\u001b[0m \u001b[1m0s\u001b[0m 14ms/step - accuracy: 0.6592 - loss: 0.5818 - val_accuracy: 0.8667 - val_loss: 0.5868\n",
            "Epoch 56/70\n",
            "\u001b[1m8/8\u001b[0m \u001b[32m━━━━━━━━━━━━━━━━━━━━\u001b[0m\u001b[37m\u001b[0m \u001b[1m0s\u001b[0m 14ms/step - accuracy: 0.7305 - loss: 0.5690 - val_accuracy: 0.8167 - val_loss: 0.5633\n",
            "Epoch 57/70\n",
            "\u001b[1m8/8\u001b[0m \u001b[32m━━━━━━━━━━━━━━━━━━━━\u001b[0m\u001b[37m\u001b[0m \u001b[1m0s\u001b[0m 20ms/step - accuracy: 0.8350 - loss: 0.5547 - val_accuracy: 0.9167 - val_loss: 0.5729\n",
            "Epoch 58/70\n",
            "\u001b[1m8/8\u001b[0m \u001b[32m━━━━━━━━━━━━━━━━━━━━\u001b[0m\u001b[37m\u001b[0m \u001b[1m0s\u001b[0m 14ms/step - accuracy: 0.8086 - loss: 0.5666 - val_accuracy: 0.9500 - val_loss: 0.5538\n",
            "Epoch 59/70\n",
            "\u001b[1m8/8\u001b[0m \u001b[32m━━━━━━━━━━━━━━━━━━━━\u001b[0m\u001b[37m\u001b[0m \u001b[1m0s\u001b[0m 20ms/step - accuracy: 0.9602 - loss: 0.5352 - val_accuracy: 0.9167 - val_loss: 0.5545\n",
            "Epoch 60/70\n",
            "\u001b[1m8/8\u001b[0m \u001b[32m━━━━━━━━━━━━━━━━━━━━\u001b[0m\u001b[37m\u001b[0m \u001b[1m0s\u001b[0m 13ms/step - accuracy: 0.9146 - loss: 0.5368 - val_accuracy: 0.8667 - val_loss: 0.5365\n",
            "Epoch 61/70\n",
            "\u001b[1m8/8\u001b[0m \u001b[32m━━━━━━━━━━━━━━━━━━━━\u001b[0m\u001b[37m\u001b[0m \u001b[1m0s\u001b[0m 14ms/step - accuracy: 0.9189 - loss: 0.5239 - val_accuracy: 0.9500 - val_loss: 0.5331\n",
            "Epoch 62/70\n",
            "\u001b[1m8/8\u001b[0m \u001b[32m━━━━━━━━━━━━━━━━━━━━\u001b[0m\u001b[37m\u001b[0m \u001b[1m0s\u001b[0m 13ms/step - accuracy: 0.9481 - loss: 0.5031 - val_accuracy: 0.8167 - val_loss: 0.5208\n",
            "Epoch 63/70\n",
            "\u001b[1m8/8\u001b[0m \u001b[32m━━━━━━━━━━━━━━━━━━━━\u001b[0m\u001b[37m\u001b[0m \u001b[1m0s\u001b[0m 14ms/step - accuracy: 0.8688 - loss: 0.5167 - val_accuracy: 0.9500 - val_loss: 0.5143\n",
            "Epoch 64/70\n",
            "\u001b[1m8/8\u001b[0m \u001b[32m━━━━━━━━━━━━━━━━━━━━\u001b[0m\u001b[37m\u001b[0m \u001b[1m0s\u001b[0m 14ms/step - accuracy: 0.9064 - loss: 0.4993 - val_accuracy: 0.9500 - val_loss: 0.5072\n",
            "Epoch 65/70\n",
            "\u001b[1m8/8\u001b[0m \u001b[32m━━━━━━━━━━━━━━━━━━━━\u001b[0m\u001b[37m\u001b[0m \u001b[1m0s\u001b[0m 13ms/step - accuracy: 0.8797 - loss: 0.4868 - val_accuracy: 0.9167 - val_loss: 0.5152\n",
            "Epoch 66/70\n",
            "\u001b[1m8/8\u001b[0m \u001b[32m━━━━━━━━━━━━━━━━━━━━\u001b[0m\u001b[37m\u001b[0m \u001b[1m0s\u001b[0m 15ms/step - accuracy: 0.8971 - loss: 0.5003 - val_accuracy: 0.9167 - val_loss: 0.5005\n",
            "Epoch 67/70\n",
            "\u001b[1m8/8\u001b[0m \u001b[32m━━━━━━━━━━━━━━━━━━━━\u001b[0m\u001b[37m\u001b[0m \u001b[1m0s\u001b[0m 14ms/step - accuracy: 0.8641 - loss: 0.4805 - val_accuracy: 0.8167 - val_loss: 0.4990\n",
            "Epoch 68/70\n",
            "\u001b[1m8/8\u001b[0m \u001b[32m━━━━━━━━━━━━━━━━━━━━\u001b[0m\u001b[37m\u001b[0m \u001b[1m0s\u001b[0m 19ms/step - accuracy: 0.8310 - loss: 0.4946 - val_accuracy: 0.8667 - val_loss: 0.5097\n",
            "Epoch 69/70\n",
            "\u001b[1m8/8\u001b[0m \u001b[32m━━━━━━━━━━━━━━━━━━━━\u001b[0m\u001b[37m\u001b[0m \u001b[1m0s\u001b[0m 25ms/step - accuracy: 0.9218 - loss: 0.4597 - val_accuracy: 0.8667 - val_loss: 0.4683\n",
            "Epoch 70/70\n",
            "\u001b[1m8/8\u001b[0m \u001b[32m━━━━━━━━━━━━━━━━━━━━\u001b[0m\u001b[37m\u001b[0m \u001b[1m0s\u001b[0m 24ms/step - accuracy: 0.9151 - loss: 0.4523 - val_accuracy: 0.9167 - val_loss: 0.4845\n"
          ]
        }
      ]
    },
    {
      "cell_type": "code",
      "source": [
        "#ewaluacja modelu\n",
        "loss, accuracy = model.evaluate(np.array(X_test), np.array(y_test))\n",
        "print(f\"Loss: {loss}\")\n",
        "print(f\"Accuracy: {accuracy}\")"
      ],
      "metadata": {
        "colab": {
          "base_uri": "https://localhost:8080/"
        },
        "id": "C1f2nPcYm-fx",
        "outputId": "d9a1c242-adb0-4904-86bb-6903465d2d2f"
      },
      "execution_count": 11,
      "outputs": [
        {
          "output_type": "stream",
          "name": "stdout",
          "text": [
            "\u001b[1m2/2\u001b[0m \u001b[32m━━━━━━━━━━━━━━━━━━━━\u001b[0m\u001b[37m\u001b[0m \u001b[1m0s\u001b[0m 27ms/step - accuracy: 0.9028 - loss: 0.4899\n",
            "Loss: 0.4844645857810974\n",
            "Accuracy: 0.9166666865348816\n"
          ]
        }
      ]
    },
    {
      "cell_type": "code",
      "source": [
        "plt.plot(history.history['accuracy'])\n",
        "plt.plot(history.history['val_accuracy'])\n",
        "plt.title('Model accuracy')\n",
        "plt.ylabel('Accuracy')\n",
        "plt.xlabel('Epoch')"
      ],
      "metadata": {
        "colab": {
          "base_uri": "https://localhost:8080/",
          "height": 490
        },
        "id": "7N3V7OFhnFko",
        "outputId": "0a0ec763-77d2-4477-ee09-25aa0bec9e9e"
      },
      "execution_count": 12,
      "outputs": [
        {
          "output_type": "execute_result",
          "data": {
            "text/plain": [
              "Text(0.5, 0, 'Epoch')"
            ]
          },
          "metadata": {},
          "execution_count": 12
        },
        {
          "output_type": "display_data",
          "data": {
            "text/plain": [
              "<Figure size 640x480 with 1 Axes>"
            ],
            "image/png": "[encoded data removed]"
          },
          "metadata": {}
        }
      ]
    },
    {
      "cell_type": "code",
      "source": [
        "# Lista 20 wypowiedzi testowych\n",
        "test_sentences = [\n",
        "    \"I absolutely love this product!\",\n",
        "    \"Terrible experience, I will never buy this again.\",\n",
        "    \"Great quality and fast delivery.\",\n",
        "    \"Completely useless and a waste of money.\",\n",
        "    \"Highly recommend it to everyone!\",\n",
        "    \"Awful packaging and very slow shipping.\",\n",
        "    \"This is the best purchase I made this year!\",\n",
        "    \"Not satisfied, the item broke after two days.\",\n",
        "    \"Super helpful and kind customer service!\",\n",
        "    \"Disappointed with how it turned out.\",\n",
        "    \"Amazing quality, exceeded my expectations!\",\n",
        "    \"The product stopped working after a week.\",\n",
        "    \"Really fast shipping and nice packaging.\",\n",
        "    \"Customer service was not helpful at all.\",\n",
        "    \"It's okay, nothing special.\",\n",
        "    \"Absolutely fantastic, I'm impressed!\",\n",
        "    \"Won’t be buying from this seller again.\",\n",
        "    \"Love it! Will order again soon.\",\n",
        "    \"Worst purchase I've ever made.\",\n",
        "    \"Top-notch quality and very reliable.\"\n",
        "]\n"
      ],
      "metadata": {
        "id": "_8qvT8aIoN0Z"
      },
      "execution_count": 13,
      "outputs": []
    },
    {
      "cell_type": "code",
      "source": [
        "# Tokenizacja tekstów\n",
        "tokenizer = Tokenizer(num_words=1000, oov_token=\"<OOV>\")\n",
        "tokenizer.fit_on_texts(test_sentences)\n",
        "sequences = tokenizer.texts_to_sequences(test_sentences)\n",
        "padded = pad_sequences(sequences, maxlen=20, padding='post')"
      ],
      "metadata": {
        "id": "GaGAVsMxoV-A"
      },
      "execution_count": 14,
      "outputs": []
    },
    {
      "cell_type": "code",
      "source": [
        "# Predykcja sentymentu\n",
        "predictions = model.predict(padded)\n"
      ],
      "metadata": {
        "colab": {
          "base_uri": "https://localhost:8080/"
        },
        "id": "Jl1n9gqHoYqU",
        "outputId": "805b02c4-4e77-4167-e34d-59ef51c3835c"
      },
      "execution_count": 15,
      "outputs": [
        {
          "output_type": "stream",
          "name": "stdout",
          "text": [
            "\u001b[1m1/1\u001b[0m \u001b[32m━━━━━━━━━━━━━━━━━━━━\u001b[0m\u001b[37m\u001b[0m \u001b[1m0s\u001b[0m 140ms/step\n"
          ]
        }
      ]
    },
    {
      "cell_type": "code",
      "source": [
        "# Wyświetl wyniki\n",
        "for i, sentence in enumerate(test_sentences):\n",
        "    label = \"POSITIVE\" if predictions[i] > 0.5 else \"NEGATIVE\"\n",
        "    print(f\"{label} ({predictions[i][0]:.2f}): {sentence}\")"
      ],
      "metadata": {
        "colab": {
          "base_uri": "https://localhost:8080/"
        },
        "id": "aWYY4ikkohqq",
        "outputId": "f6c9e973-4899-4f30-e6fc-cc7e04b5c8e0"
      },
      "execution_count": 16,
      "outputs": [
        {
          "output_type": "stream",
          "name": "stdout",
          "text": [
            "NEGATIVE (0.15): I absolutely love this product!\n",
            "POSITIVE (0.88): Terrible experience, I will never buy this again.\n",
            "NEGATIVE (0.48): Great quality and fast delivery.\n",
            "NEGATIVE (0.05): Completely useless and a waste of money.\n",
            "NEGATIVE (0.44): Highly recommend it to everyone!\n",
            "NEGATIVE (0.17): Awful packaging and very slow shipping.\n",
            "NEGATIVE (0.12): This is the best purchase I made this year!\n",
            "NEGATIVE (0.30): Not satisfied, the item broke after two days.\n",
            "POSITIVE (0.70): Super helpful and kind customer service!\n",
            "NEGATIVE (0.32): Disappointed with how it turned out.\n",
            "POSITIVE (0.65): Amazing quality, exceeded my expectations!\n",
            "NEGATIVE (0.23): The product stopped working after a week.\n",
            "POSITIVE (0.86): Really fast shipping and nice packaging.\n",
            "NEGATIVE (0.37): Customer service was not helpful at all.\n",
            "NEGATIVE (0.44): It's okay, nothing special.\n",
            "NEGATIVE (0.33): Absolutely fantastic, I'm impressed!\n",
            "NEGATIVE (0.23): Won’t be buying from this seller again.\n",
            "POSITIVE (0.56): Love it! Will order again soon.\n",
            "NEGATIVE (0.42): Worst purchase I've ever made.\n",
            "NEGATIVE (0.15): Top-notch quality and very reliable.\n"
          ]
        }
      ]
    }
  ]
}