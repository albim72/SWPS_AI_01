{
 "cells": [
  {
   "cell_type": "markdown",
   "id": "dcc708c2",
   "metadata": {},
   "source": [
    "## Zadanie 1 – Klasyfikacja emocji w tekście\n",
    "W tym ćwiczeniu wykorzystamy model `j-hartmann/emotion-english-distilroberta-base` do rozpoznawania emocji w krótkich wypowiedziach tekstowych."
   ]
  },
  {
   "cell_type": "code",
   "execution_count": null,
   "id": "83843c44",
   "metadata": {},
   "outputs": [],
   "source": [
    "# Instalacja wymaganych bibliotek (jeśli potrzebne)\n",
    "# !pip install transformers gradio\n",
    "from transformers import pipeline\n",
    "import gradio as gr"
   ]
  },
  {
   "cell_type": "markdown",
   "id": "ae49a063",
   "metadata": {},
   "source": [
    "## Załaduj model"
   ]
  },
  {
   "cell_type": "code",
   "execution_count": null,
   "id": "cf94ee15",
   "metadata": {},
   "outputs": [],
   "source": [
    "classifier = pipeline(\n",
    "    \"text-classification\",\n",
    "    model=\"j-hartmann/emotion-english-distilroberta-base\",\n",
    "    return_all_scores=True\n",
    ")"
   ]
  },
  {
   "cell_type": "markdown",
   "id": "dec80cf2",
   "metadata": {},
   "source": [
    "##  Przykładowa analiza jednej wypowiedzi"
   ]
  },
  {
   "cell_type": "code",
   "execution_count": null,
   "id": "f478f7f9",
   "metadata": {},
   "outputs": [],
   "source": [
    "text = \"I'm feeling so happy and full of energy today!\"\n",
    "predictions = classifier(text)[0]\n",
    "for p in sorted(predictions, key=lambda x: x['score'], reverse=True):\n",
    "    print(f\"{p['label']}: {p['score']:.3f}\")"
   ]
  },
  {
   "cell_type": "markdown",
   "id": "5073b461",
   "metadata": {},
   "source": [
    "##  Interaktywny interfejs Gradio"
   ]
  },
  {
   "cell_type": "code",
   "execution_count": null,
   "id": "c4680f04",
   "metadata": {},
   "outputs": [],
   "source": [
    "def predict_emotions(text):\n",
    "    preds = classifier(text)[0]\n",
    "    sorted_preds = sorted(preds, key=lambda x: x['score'], reverse=True)\n",
    "    return {p['label']: round(p['score'], 3) for p in sorted_preds}\n",
    "\n",
    "demo = gr.Interface(\n",
    "    fn=predict_emotions,\n",
    "    inputs=gr.Textbox(lines=4, placeholder=\"Wpisz tekst...\"),\n",
    "    outputs=\"label\",\n",
    "    title=\"Emotion Classifier\",\n",
    "    description=\"Model wykrywający emocje w wypowiedzi.\"\n",
    ")\n",
    "demo.launch()"
   ]
  },
  {
   "cell_type": "markdown",
   "id": "e80ea95a",
   "metadata": {},
   "source": [
    " Zadanie dodatkowe\n",
    "- Zmień tekst i zobacz, jak zmieniają się emocje\n",
    "- Przetestuj wypowiedzi zawierające kilka emocji\n",
    "- Wykonaj analizę na kilku zdaniach w pętli\n"
   ]
  }
 ],
 "metadata": {
  "kernelspec": {
   "display_name": "Python 3",
   "language": "python",
   "name": "python3"
  }
 },
 "nbformat": 4,
 "nbformat_minor": 5
}
