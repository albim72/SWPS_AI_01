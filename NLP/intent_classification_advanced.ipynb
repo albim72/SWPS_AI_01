{
 "cells": [
  {
   "cell_type": "markdown",
   "id": "cb7d69de",
   "metadata": {},
   "source": [
    "# Zaawansowana analiza intencji użytkownika\n",
    "W tym notebooku wykorzystujemy model językowy fine-tuned do rozpoznawania intencji z wypowiedzi użytkowników."
   ]
  },
  {
   "cell_type": "code",
   "execution_count": null,
   "id": "03b5066a",
   "metadata": {},
   "outputs": [],
   "source": [
    "from transformers import AutoTokenizer, AutoModelForSequenceClassification, pipeline\n",
    "import torch"
   ]
  },
  {
   "cell_type": "markdown",
   "id": "fe503c74",
   "metadata": {},
   "source": [
    "## Ładowanie modelu do klasyfikacji intencji\n",
    "Używamy modelu fine-tuned `aneuraz/bert-base-cased-emotion`."
   ]
  },
  {
   "cell_type": "code",
   "execution_count": null,
   "id": "4a7f0345",
   "metadata": {},
   "outputs": [],
   "source": [
    "model_name = \"mrm8488/bert-small-finetuned-squadv2\"\n",
    "# UWAGA: model mrm8488/bert-small-finetuned-squadv2 był fine-tuned do QA, poniżej podmienimy na intencję\n",
    "model_name = \"prithivida/intent-classifier\"\n",
    "tokenizer = AutoTokenizer.from_pretrained(model_name)\n",
    "model = AutoModelForSequenceClassification.from_pretrained(model_name)\n",
    "intent_classifier = pipeline(\"text-classification\", model=model, tokenizer=tokenizer)"
   ]
  },
  {
   "cell_type": "markdown",
   "id": "a581adfb",
   "metadata": {},
   "source": [
    "## Przykładowe wypowiedzi do klasyfikacji"
   ]
  },
  {
   "cell_type": "code",
   "execution_count": null,
   "id": "a3b0cbe3",
   "metadata": {},
   "outputs": [],
   "source": [
    "examples = [\n",
    "    \"I want to order a pizza\",\n",
    "    \"Can you tell me the weather forecast?\",\n",
    "    \"I forgot my password\",\n",
    "    \"Book me a taxi to the airport\",\n",
    "    \"What time does the store open?\",\n",
    "    \"I need to cancel my reservation\",\n",
    "    \"How do I reset my account?\",\n",
    "    \"Schedule a meeting with John\",\n",
    "    \"What's the status of my delivery?\",\n",
    "    \"Please play some jazz music\"\n",
    "]"
   ]
  },
  {
   "cell_type": "markdown",
   "id": "2810a887",
   "metadata": {},
   "source": [
    "## Predykcja intencji"
   ]
  },
  {
   "cell_type": "code",
   "execution_count": null,
   "id": "7c7dc76e",
   "metadata": {},
   "outputs": [],
   "source": [
    "for sentence in examples:\n",
    "    result = intent_classifier(sentence)\n",
    "    print(f\"Wypowiedź: {sentence}\")\n",
    "    print(f\"Intencja: {result[0]['label']} (score: {result[0]['score']:.2f})\\n\")"
   ]
  }
 ],
 "metadata": {},
 "nbformat": 4,
 "nbformat_minor": 5
}
