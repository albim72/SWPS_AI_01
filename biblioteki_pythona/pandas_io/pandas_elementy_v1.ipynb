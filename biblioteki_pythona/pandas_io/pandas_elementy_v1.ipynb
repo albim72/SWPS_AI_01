{
 "cells":[
  {
   "cell_type":"markdown",
   "source":[
    "# Zadanie 1: analiza danych sprzedaży"
   ],
   "attachments":{},
   "metadata":{
    "datalore":{
     "node_id":"Xbh7smODKpPhryIuGgh1Ds",
     "type":"MD",
     "hide_input_from_viewers":true,
     "hide_output_from_viewers":true
    }
   }
  },
  {
   "cell_type":"code",
   "source":[
    "import pandas as pd\n",
    "import matplotlib.pyplot as plt"
   ],
   "execution_count":1,
   "outputs":[],
   "metadata":{
    "datalore":{
     "node_id":"BXWcCjWfwYWTRxopZqh4ev",
     "type":"CODE",
     "hide_input_from_viewers":true,
     "hide_output_from_viewers":true
    }
   }
  },
  {
   "cell_type":"code",
   "source":[
    "df = pd.read_csv('dane\/sales.csv',parse_dates=['order_date'])"
   ],
   "execution_count":3,
   "outputs":[],
   "metadata":{
    "datalore":{
     "node_id":"J7S6zHza31thjxEtBNOwMV",
     "type":"CODE",
     "hide_input_from_viewers":true,
     "hide_output_from_viewers":true
    }
   }
  },
  {
   "cell_type":"code",
   "source":[
    "df.head(5)"
   ],
   "execution_count":4,
   "outputs":[
    {
     "data":{
      "text\/html":[
       "<div>\n",
       "<style scoped>\n",
       "    .dataframe tbody tr th:only-of-type {\n",
       "        vertical-align: middle;\n",
       "    }\n",
       "\n",
       "    .dataframe tbody tr th {\n",
       "        vertical-align: top;\n",
       "    }\n",
       "\n",
       "    .dataframe thead th {\n",
       "        text-align: right;\n",
       "    }\n",
       "<\/style>\n",
       "<table border=\"1\" class=\"dataframe\">\n",
       "  <thead>\n",
       "    <tr style=\"text-align: right;\">\n",
       "      <th><\/th>\n",
       "      <th>order_id<\/th>\n",
       "      <th>product_name<\/th>\n",
       "      <th>category<\/th>\n",
       "      <th>price<\/th>\n",
       "      <th>quantity<\/th>\n",
       "      <th>order_date<\/th>\n",
       "    <\/tr>\n",
       "  <\/thead>\n",
       "  <tbody>\n",
       "    <tr>\n",
       "      <th>0<\/th>\n",
       "      <td>1102<\/td>\n",
       "      <td>Smartphone<\/td>\n",
       "      <td>Electronics<\/td>\n",
       "      <td>700.22<\/td>\n",
       "      <td>2<\/td>\n",
       "      <td>2023-01-01<\/td>\n",
       "    <\/tr>\n",
       "    <tr>\n",
       "      <th>1<\/th>\n",
       "      <td>1435<\/td>\n",
       "      <td>Speaker<\/td>\n",
       "      <td>Accessories<\/td>\n",
       "      <td>1491.96<\/td>\n",
       "      <td>1<\/td>\n",
       "      <td>2023-01-02<\/td>\n",
       "    <\/tr>\n",
       "    <tr>\n",
       "      <th>2<\/th>\n",
       "      <td>1860<\/td>\n",
       "      <td>Headphones<\/td>\n",
       "      <td>Electronics<\/td>\n",
       "      <td>305.09<\/td>\n",
       "      <td>2<\/td>\n",
       "      <td>2023-01-03<\/td>\n",
       "    <\/tr>\n",
       "    <tr>\n",
       "      <th>3<\/th>\n",
       "      <td>1270<\/td>\n",
       "      <td>Charger<\/td>\n",
       "      <td>Accessories<\/td>\n",
       "      <td>76.21<\/td>\n",
       "      <td>1<\/td>\n",
       "      <td>2023-01-04<\/td>\n",
       "    <\/tr>\n",
       "    <tr>\n",
       "      <th>4<\/th>\n",
       "      <td>1106<\/td>\n",
       "      <td>Mouse<\/td>\n",
       "      <td>Accessories<\/td>\n",
       "      <td>766.15<\/td>\n",
       "      <td>2<\/td>\n",
       "      <td>2023-01-05<\/td>\n",
       "    <\/tr>\n",
       "  <\/tbody>\n",
       "<\/table>\n",
       "<\/div>"
      ]
     },
     "metadata":{},
     "output_type":"display_data"
    }
   ],
   "metadata":{
    "datalore":{
     "node_id":"hKzD7ePf5cBEanbEkyCd3v",
     "type":"CODE",
     "hide_input_from_viewers":true,
     "hide_output_from_viewers":true
    }
   }
  },
  {
   "cell_type":"code",
   "source":[
    "df['revenue'] = df['price']*df['quantity']"
   ],
   "execution_count":6,
   "outputs":[],
   "metadata":{
    "datalore":{
     "node_id":"CTVXgpVnAIMarebUrTO7Fi",
     "type":"CODE",
     "hide_input_from_viewers":true,
     "hide_output_from_viewers":true
    }
   }
  },
  {
   "cell_type":"code",
   "source":[
    "#łączny przychód ze sprzedaży dla każdego produktu\n",
    "product_revenue = df.groupby('product_name')['revenue'].sum().sort_values(ascending=False)"
   ],
   "execution_count":7,
   "outputs":[],
   "metadata":{
    "datalore":{
     "node_id":"6juZn9rFKvgwnMGIy1JAAg",
     "type":"CODE",
     "hide_input_from_viewers":true,
     "hide_output_from_viewers":true
    }
   }
  },
  {
   "cell_type":"code",
   "source":[
    "print(\"pięć najlepiej zarabiających produktów:\")\n",
    "product_revenue.head(5)"
   ],
   "execution_count":9,
   "outputs":[
    {
     "name":"stdout",
     "text":[
      "pięć najlepiej zarabiających produktów:\n"
     ],
     "output_type":"stream"
    },
    {
     "data":{
      "text\/html":[
       "<pre>product_name\n",
       "Webcam     29425.50\n",
       "Mouse      27737.84\n",
       "Speaker    25987.32\n",
       "Charger    21029.31\n",
       "Laptop     20494.80\n",
       "Name: revenue, dtype: float64<\/pre>"
      ]
     },
     "metadata":{},
     "output_type":"display_data"
    }
   ],
   "metadata":{
    "datalore":{
     "node_id":"obC8bUGLPjlOA5OPX0aVbG",
     "type":"CODE",
     "hide_input_from_viewers":true,
     "hide_output_from_viewers":true
    }
   }
  },
  {
   "cell_type":"code",
   "source":[
    "#średnia wartość zamówienie w każdym miesiącu\n",
    "df['month'] = df['order_date'].dt.to_period('M')\n",
    "monthly_avg_order_value = df.groupby('month')['revenue'].mean()"
   ],
   "execution_count":11,
   "outputs":[],
   "metadata":{
    "datalore":{
     "node_id":"zzKMpJ8T33rWPcEN14HE8I",
     "type":"CODE",
     "hide_input_from_viewers":true,
     "hide_output_from_viewers":true
    }
   }
  },
  {
   "cell_type":"code",
   "source":[
    "print(\"średnia wartość zamówienia w miesiącu:\")\n",
    "print(monthly_avg_order_value)"
   ],
   "execution_count":12,
   "outputs":[
    {
     "name":"stdout",
     "text":[
      "średnia wartość zamówienia w miesiącu:\n",
      "month\n",
      "2023-01    1765.235161\n",
      "2023-02    1879.211786\n",
      "2023-03    1731.776129\n",
      "2023-04    2698.689000\n",
      "Freq: M, Name: revenue, dtype: float64\n"
     ],
     "output_type":"stream"
    }
   ],
   "metadata":{
    "datalore":{
     "node_id":"rxT4urlIbjCVqqlLhSYh43",
     "type":"CODE",
     "hide_input_from_viewers":true,
     "hide_output_from_viewers":true
    }
   }
  },
  {
   "cell_type":"code",
   "source":[
    "#10 najlepiej sorzedających się kategorii\n",
    "category_revenue = df.groupby('category')['revenue'].sum().sort_values(ascending=False).head(10)"
   ],
   "execution_count":13,
   "outputs":[],
   "metadata":{
    "datalore":{
     "node_id":"xBtau1wXY8otGWEwmNwKtP",
     "type":"CODE",
     "hide_input_from_viewers":true,
     "hide_output_from_viewers":true
    }
   }
  },
  {
   "cell_type":"code",
   "source":[
    "plt.figure(figsize=(10,6))\n",
    "category_revenue.plot(kind='bar')\n",
    "plt.title(\"Top 10 kategorii wg przychodu\")\n",
    "plt.xlabel('Kategoria')\n",
    "plt.ylabel('Przychód')\n",
    "plt.xticks(rotation=45)\n",
    "plt.tight_layout()\n",
    "plt.show()"
   ],
   "execution_count":14,
   "outputs":[
    {
     "data":{
      "image\/png":"[encoded data removed]"
     },
     "metadata":{
      "image\/png":{}
     },
     "output_type":"display_data"
    }
   ],
   "metadata":{
    "datalore":{
     "node_id":"d92Dl8A62fQryqDcFr4ILv",
     "type":"CODE",
     "hide_input_from_viewers":true,
     "hide_output_from_viewers":true
    }
   }
  }
 ],
 "metadata":{
  "kernelspec":{
   "display_name":"Python",
   "language":"python",
   "name":"python"
  },
  "datalore":{
   "computation_mode":"JUPYTER",
   "package_manager":"pip",
   "base_environment":"default_3_11",
   "python_version":"3.11",
   "packages":[],
   "report_row_ids":[],
   "report_tabs":[],
   "version":4
  }
 },
 "nbformat":4,
 "nbformat_minor":4
}