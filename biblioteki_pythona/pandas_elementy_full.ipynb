{
 "cells":[
  {
   "cell_type":"markdown",
   "source":[
    "# Zadanie 1: analiza danych sprzedaży"
   ],
   "attachments":{},
   "metadata":{
    "datalore":{
     "node_id":"Xbh7smODKpPhryIuGgh1Ds",
     "type":"MD",
     "hide_input_from_viewers":true,
     "hide_output_from_viewers":true
    }
   }
  },
  {
   "cell_type":"code",
   "source":[
    "import pandas as pd\n",
    "import matplotlib.pyplot as plt"
   ],
   "execution_count":1,
   "outputs":[],
   "metadata":{
    "datalore":{
     "node_id":"BXWcCjWfwYWTRxopZqh4ev",
     "type":"CODE",
     "hide_input_from_viewers":true,
     "hide_output_from_viewers":true
    }
   }
  },
  {
   "cell_type":"code",
   "source":[
    "df = pd.read_csv('dane\/sales.csv',parse_dates=['order_date'])"
   ],
   "execution_count":3,
   "outputs":[],
   "metadata":{
    "datalore":{
     "node_id":"J7S6zHza31thjxEtBNOwMV",
     "type":"CODE",
     "hide_input_from_viewers":true,
     "hide_output_from_viewers":true
    }
   }
  },
  {
   "cell_type":"code",
   "source":[
    "df.head(5)"
   ],
   "execution_count":4,
   "outputs":[
    {
     "data":{
      "text\/html":[
       "<div>\n",
       "<style scoped>\n",
       "    .dataframe tbody tr th:only-of-type {\n",
       "        vertical-align: middle;\n",
       "    }\n",
       "\n",
       "    .dataframe tbody tr th {\n",
       "        vertical-align: top;\n",
       "    }\n",
       "\n",
       "    .dataframe thead th {\n",
       "        text-align: right;\n",
       "    }\n",
       "<\/style>\n",
       "<table border=\"1\" class=\"dataframe\">\n",
       "  <thead>\n",
       "    <tr style=\"text-align: right;\">\n",
       "      <th><\/th>\n",
       "      <th>order_id<\/th>\n",
       "      <th>product_name<\/th>\n",
       "      <th>category<\/th>\n",
       "      <th>price<\/th>\n",
       "      <th>quantity<\/th>\n",
       "      <th>order_date<\/th>\n",
       "    <\/tr>\n",
       "  <\/thead>\n",
       "  <tbody>\n",
       "    <tr>\n",
       "      <th>0<\/th>\n",
       "      <td>1102<\/td>\n",
       "      <td>Smartphone<\/td>\n",
       "      <td>Electronics<\/td>\n",
       "      <td>700.22<\/td>\n",
       "      <td>2<\/td>\n",
       "      <td>2023-01-01<\/td>\n",
       "    <\/tr>\n",
       "    <tr>\n",
       "      <th>1<\/th>\n",
       "      <td>1435<\/td>\n",
       "      <td>Speaker<\/td>\n",
       "      <td>Accessories<\/td>\n",
       "      <td>1491.96<\/td>\n",
       "      <td>1<\/td>\n",
       "      <td>2023-01-02<\/td>\n",
       "    <\/tr>\n",
       "    <tr>\n",
       "      <th>2<\/th>\n",
       "      <td>1860<\/td>\n",
       "      <td>Headphones<\/td>\n",
       "      <td>Electronics<\/td>\n",
       "      <td>305.09<\/td>\n",
       "      <td>2<\/td>\n",
       "      <td>2023-01-03<\/td>\n",
       "    <\/tr>\n",
       "    <tr>\n",
       "      <th>3<\/th>\n",
       "      <td>1270<\/td>\n",
       "      <td>Charger<\/td>\n",
       "      <td>Accessories<\/td>\n",
       "      <td>76.21<\/td>\n",
       "      <td>1<\/td>\n",
       "      <td>2023-01-04<\/td>\n",
       "    <\/tr>\n",
       "    <tr>\n",
       "      <th>4<\/th>\n",
       "      <td>1106<\/td>\n",
       "      <td>Mouse<\/td>\n",
       "      <td>Accessories<\/td>\n",
       "      <td>766.15<\/td>\n",
       "      <td>2<\/td>\n",
       "      <td>2023-01-05<\/td>\n",
       "    <\/tr>\n",
       "  <\/tbody>\n",
       "<\/table>\n",
       "<\/div>"
      ]
     },
     "metadata":{},
     "output_type":"display_data"
    }
   ],
   "metadata":{
    "datalore":{
     "node_id":"hKzD7ePf5cBEanbEkyCd3v",
     "type":"CODE",
     "hide_input_from_viewers":true,
     "hide_output_from_viewers":true
    }
   }
  },
  {
   "cell_type":"code",
   "source":[
    "df['revenue'] = df['price']*df['quantity']"
   ],
   "execution_count":6,
   "outputs":[],
   "metadata":{
    "datalore":{
     "node_id":"CTVXgpVnAIMarebUrTO7Fi",
     "type":"CODE",
     "hide_input_from_viewers":true,
     "hide_output_from_viewers":true
    }
   }
  },
  {
   "cell_type":"code",
   "source":[
    "#łączny przychód ze sprzedaży dla każdego produktu\n",
    "product_revenue = df.groupby('product_name')['revenue'].sum().sort_values(ascending=False)"
   ],
   "execution_count":7,
   "outputs":[],
   "metadata":{
    "datalore":{
     "node_id":"6juZn9rFKvgwnMGIy1JAAg",
     "type":"CODE",
     "hide_input_from_viewers":true,
     "hide_output_from_viewers":true
    }
   }
  },
  {
   "cell_type":"code",
   "source":[
    "print(\"pięć najlepiej zarabiających produktów:\")\n",
    "product_revenue.head(5)"
   ],
   "execution_count":9,
   "outputs":[
    {
     "name":"stdout",
     "text":[
      "pięć najlepiej zarabiających produktów:\n"
     ],
     "output_type":"stream"
    },
    {
     "data":{
      "text\/html":[
       "<pre>product_name\n",
       "Webcam     29425.50\n",
       "Mouse      27737.84\n",
       "Speaker    25987.32\n",
       "Charger    21029.31\n",
       "Laptop     20494.80\n",
       "Name: revenue, dtype: float64<\/pre>"
      ]
     },
     "metadata":{},
     "output_type":"display_data"
    }
   ],
   "metadata":{
    "datalore":{
     "node_id":"obC8bUGLPjlOA5OPX0aVbG",
     "type":"CODE",
     "hide_input_from_viewers":true,
     "hide_output_from_viewers":true
    }
   }
  },
  {
   "cell_type":"code",
   "source":[
    "#średnia wartość zamówienie w każdym miesiącu\n",
    "df['month'] = df['order_date'].dt.to_period('M')\n",
    "monthly_avg_order_value = df.groupby('month')['revenue'].mean()"
   ],
   "execution_count":11,
   "outputs":[],
   "metadata":{
    "datalore":{
     "node_id":"zzKMpJ8T33rWPcEN14HE8I",
     "type":"CODE",
     "hide_input_from_viewers":true,
     "hide_output_from_viewers":true
    }
   }
  },
  {
   "cell_type":"code",
   "source":[
    "print(\"średnia wartość zamówienia w miesiącu:\")\n",
    "print(monthly_avg_order_value)"
   ],
   "execution_count":12,
   "outputs":[
    {
     "name":"stdout",
     "text":[
      "średnia wartość zamówienia w miesiącu:\n",
      "month\n",
      "2023-01    1765.235161\n",
      "2023-02    1879.211786\n",
      "2023-03    1731.776129\n",
      "2023-04    2698.689000\n",
      "Freq: M, Name: revenue, dtype: float64\n"
     ],
     "output_type":"stream"
    }
   ],
   "metadata":{
    "datalore":{
     "node_id":"rxT4urlIbjCVqqlLhSYh43",
     "type":"CODE",
     "hide_input_from_viewers":true,
     "hide_output_from_viewers":true
    }
   }
  },
  {
   "cell_type":"code",
   "source":[
    "#10 najlepiej sorzedających się kategorii\n",
    "category_revenue = df.groupby('category')['revenue'].sum().sort_values(ascending=False).head(10)"
   ],
   "execution_count":13,
   "outputs":[],
   "metadata":{
    "datalore":{
     "node_id":"xBtau1wXY8otGWEwmNwKtP",
     "type":"CODE",
     "hide_input_from_viewers":true,
     "hide_output_from_viewers":true
    }
   }
  },
  {
   "cell_type":"code",
   "source":[
    "plt.figure(figsize=(10,6))\n",
    "category_revenue.plot(kind='bar')\n",
    "plt.title(\"Top 10 kategorii wg przychodu\")\n",
    "plt.xlabel('Kategoria')\n",
    "plt.ylabel('Przychód')\n",
    "plt.xticks(rotation=45)\n",
    "plt.tight_layout()\n",
    "plt.show()"
   ],
   "execution_count":14,
   "outputs":[
    {
     "data":{
      "image\/png":"[encoded data removed]"
     },
     "metadata":{
      "image\/png":{}
     },
     "output_type":"display_data"
    }
   ],
   "metadata":{
    "datalore":{
     "node_id":"d92Dl8A62fQryqDcFr4ILv",
     "type":"CODE",
     "hide_input_from_viewers":true,
     "hide_output_from_viewers":true
    }
   }
  },
  {
   "cell_type":"markdown",
   "source":[
    "# Zadanie 2: Analiza czasu pracy pracowników"
   ],
   "attachments":{},
   "metadata":{
    "datalore":{
     "node_id":"lkCz7PUKujbZBe6HmlULBr",
     "type":"MD",
     "hide_input_from_viewers":true,
     "hide_output_from_viewers":true
    }
   }
  },
  {
   "cell_type":"code",
   "source":[
    "#wczytywanie danych\n",
    "df = pd.read_csv('dane\/timesheet.csv',parse_dates=['entry_time','exit_time'])"
   ],
   "execution_count":15,
   "outputs":[],
   "metadata":{
    "datalore":{
     "node_id":"U60DlA1Wv9tE9smD0LOaKr",
     "type":"CODE",
     "hide_input_from_viewers":true,
     "hide_output_from_viewers":true
    }
   }
  },
  {
   "cell_type":"code",
   "source":[
    "#obliczenie czasu pracy\n",
    "df['work_time'] = df['exit_time'] - df['entry_time']\n",
    "df['work_hours'] = df['work_time'].dt.total_seconds()\/3600"
   ],
   "execution_count":16,
   "outputs":[],
   "metadata":{
    "datalore":{
     "node_id":"W680bSHomuT10kKyYcIcVG",
     "type":"CODE",
     "hide_input_from_viewers":true,
     "hide_output_from_viewers":true
    }
   }
  },
  {
   "cell_type":"code",
   "source":[
    "#średni czas pracy dziennie dla kązdego pracownika\n",
    "avg_hours_per_employee = df.groupby('employee_id')['work_hours'].mean().sort_values(ascending=False)"
   ],
   "execution_count":18,
   "outputs":[],
   "metadata":{
    "datalore":{
     "node_id":"AFvDx7bsc8bLkPmFvWFtfw",
     "type":"CODE",
     "hide_input_from_viewers":true,
     "hide_output_from_viewers":true
    }
   }
  },
  {
   "cell_type":"code",
   "source":[
    "print(\"średni czas pracy dziennie dla kązdego pracownika:\")\n",
    "print(avg_hours_per_employee)"
   ],
   "execution_count":19,
   "outputs":[
    {
     "name":"stdout",
     "text":[
      "średni czas pracy dziennie dla kązdego pracownika:\n",
      "employee_id\n",
      "1     8.633333\n",
      "8     8.558333\n",
      "5     8.450000\n",
      "2     8.441667\n",
      "6     8.350000\n",
      "9     8.183333\n",
      "10    8.166667\n",
      "3     8.050000\n",
      "4     7.966667\n",
      "7     7.833333\n",
      "Name: work_hours, dtype: float64\n"
     ],
     "output_type":"stream"
    }
   ],
   "metadata":{
    "datalore":{
     "node_id":"OBiPMwRM2xD26TqAhoD6Mt",
     "type":"CODE",
     "hide_input_from_viewers":true,
     "hide_output_from_viewers":true
    }
   }
  },
  {
   "cell_type":"code",
   "source":[
    "#identyfikacja pracowników, kórzy pracowali ponad 10 godzin w conajmniej 3 dni\n",
    "overwork = df[df['work_hours']>10]\n",
    "overwork_counts = overwork['employee_id'].value_counts()\n",
    "heavy_workers = overwork_counts[overwork_counts>=3]"
   ],
   "execution_count":21,
   "outputs":[],
   "metadata":{
    "datalore":{
     "node_id":"PyZgW0jsolfPTGSmcU9zHz",
     "type":"CODE",
     "hide_input_from_viewers":true,
     "hide_output_from_viewers":true
    }
   }
  },
  {
   "cell_type":"code",
   "source":[
    "print(\"pracownicy, kórzy pracowali ponad 10 godzin w conajmniej 3 dni\")\n",
    "print(heavy_workers.head(3))"
   ],
   "execution_count":23,
   "outputs":[
    {
     "name":"stdout",
     "text":[
      "pracownicy, kórzy pracowali ponad 10 godzin w conajmniej 3 dni\n",
      "employee_id\n",
      "8    8\n",
      "5    7\n",
      "1    5\n",
      "Name: count, dtype: int64\n"
     ],
     "output_type":"stream"
    }
   ],
   "metadata":{
    "datalore":{
     "node_id":"NeVOWpnqDdgnHGK7jwbHQ9",
     "type":"CODE",
     "hide_input_from_viewers":true,
     "hide_output_from_viewers":true
    }
   }
  },
  {
   "cell_type":"markdown",
   "source":[
    "# Zadanie 3: analiza danych demograficznych"
   ],
   "attachments":{},
   "metadata":{
    "datalore":{
     "node_id":"9z6Mm6pCp8ckd3qSTQsHV6",
     "type":"MD",
     "hide_input_from_viewers":true,
     "hide_output_from_viewers":true
    }
   }
  },
  {
   "cell_type":"code",
   "source":[
    "df = pd.read_csv('dane\/population.csv')"
   ],
   "execution_count":24,
   "outputs":[],
   "metadata":{
    "datalore":{
     "node_id":"zFd9cn6VnZRoSkTBvZn4cw",
     "type":"CODE",
     "hide_input_from_viewers":true,
     "hide_output_from_viewers":true
    }
   }
  },
  {
   "cell_type":"code",
   "source":[
    "education_map = {\n",
    "    'Primary':1,\n",
    "    'Secondary':2,\n",
    "    'Bachelor':3,\n",
    "    'Master':4,\n",
    "    'PhD':5\n",
    "}\n",
    "\n",
    "df['education_num'] = df['education'].map(education_map)"
   ],
   "execution_count":28,
   "outputs":[],
   "metadata":{
    "datalore":{
     "node_id":"mgsaKNOdaXYVyVvXd8Ofhb",
     "type":"CODE",
     "hide_input_from_viewers":true,
     "hide_output_from_viewers":true
    }
   }
  },
  {
   "cell_type":"code",
   "source":[
    "#oblicz średni wiek, dochód, wykształcenie dla każdej dzielnicy\n",
    "avg_by_district = df.groupby('district')[['age','income','education_num']].mean()"
   ],
   "execution_count":31,
   "outputs":[],
   "metadata":{
    "datalore":{
     "node_id":"dvgWQIvDsBqUclO9T7ACAN",
     "type":"CODE",
     "hide_input_from_viewers":true,
     "hide_output_from_viewers":true
    }
   }
  },
  {
   "cell_type":"code",
   "source":[
    "print(\"śedni wiek, dochód i wykształcenie w dzielnicach\")\n",
    "print(avg_by_district)"
   ],
   "execution_count":32,
   "outputs":[
    {
     "name":"stdout",
     "text":[
      "śedni wiek, dochód i wykształcenie w dzielnicach\n",
      "                age       income  education_num\n",
      "district                                       \n",
      "Central   49.744186  3520.833953       3.139535\n",
      "East      52.794118  3693.349412       3.029412\n",
      "North     57.350000  3563.524000       3.050000\n",
      "South     52.000000  3424.860698       3.325581\n",
      "West      55.175000  3270.837250       3.375000\n"
     ],
     "output_type":"stream"
    }
   ],
   "metadata":{
    "datalore":{
     "node_id":"RgPixMCIIfQAazR0rhERdn",
     "type":"CODE",
     "hide_input_from_viewers":true,
     "hide_output_from_viewers":true
    }
   }
  },
  {
   "cell_type":"code",
   "source":[
    "#ile mieszkańców każdej dzielnicy ma dochód powyżej mediany miasta\n",
    "city_income_median = df['income'].median()\n",
    "df['above_median'] = df['income'] > city_income_median\n",
    "above_median_counts = df.groupby('district')['above_median'].sum()"
   ],
   "execution_count":33,
   "outputs":[],
   "metadata":{
    "datalore":{
     "node_id":"mY0uQ23VV7QeNX5QjUSFNF",
     "type":"CODE",
     "hide_input_from_viewers":true,
     "hide_output_from_viewers":true
    }
   }
  },
  {
   "cell_type":"code",
   "source":[
    "print(\"liczba mieszkańców każdej dzielnicy którzy mają dochód powyżej mediany miasta\")\n",
    "print(above_median_counts)"
   ],
   "execution_count":35,
   "outputs":[
    {
     "name":"stdout",
     "text":[
      "liczba mieszkańców każdej dzielnicy którzy mają dochód powyżej mediany miasta\n",
      "district\n",
      "Central    21\n",
      "East       20\n",
      "North      21\n",
      "South      21\n",
      "West       17\n",
      "Name: above_median, dtype: int64\n"
     ],
     "output_type":"stream"
    }
   ],
   "metadata":{
    "datalore":{
     "node_id":"e3J6q2b0imd8mUxItUDwL4",
     "type":"CODE",
     "hide_input_from_viewers":true,
     "hide_output_from_viewers":true
    }
   }
  },
  {
   "cell_type":"code",
   "source":[
    "#tabela przestawna: grupy wiekowe w każdej dzielnicy\n",
    "def age_group(age):\n",
    "    if age <= 18:\n",
    "        return '0-18'\n",
    "    elif age <=35:\n",
    "        return '19-35'\n",
    "    elif age <= 60:\n",
    "        return '36-60'\n",
    "    else:\n",
    "        return '60+'\n",
    "df['age_group']=df['age'].apply(age_group)\n",
    "\n",
    "pivot_age = pd.pivot_table(df,values='person_id',index='district',columns='age_group',aggfunc='count',fill_value=0)"
   ],
   "execution_count":36,
   "outputs":[],
   "metadata":{
    "datalore":{
     "node_id":"M1ZwQhA1bUKJC7gHTXblPE",
     "type":"CODE",
     "hide_input_from_viewers":true,
     "hide_output_from_viewers":true
    }
   }
  },
  {
   "cell_type":"code",
   "source":[
    "print(\"tabela przestawna: grupy wiekowe w każdej dzielnicy\")\n",
    "print(pivot_age)"
   ],
   "execution_count":37,
   "outputs":[
    {
     "name":"stdout",
     "text":[
      "tabela przestawna: grupy wiekowe w każdej dzielnicy\n",
      "age_group  0-18  19-35  36-60  60+\n",
      "district                          \n",
      "Central       0     15     13   15\n",
      "East          1      8     12   13\n",
      "North         0      9     11   20\n",
      "South         0     10     17   16\n",
      "West          0     10     13   17\n"
     ],
     "output_type":"stream"
    }
   ],
   "metadata":{
    "datalore":{
     "node_id":"HbAlzTqEbLY4kSkWvwwYwS",
     "type":"CODE",
     "hide_input_from_viewers":true,
     "hide_output_from_viewers":true
    }
   }
  },
  {
   "cell_type":"code",
   "source":[
    "#wykres pudełkowy dochowdów w podziale na płeć\n",
    "plt.figure(figsize=(8,6))\n",
    "df.boxplot(column='income',by='gender')\n",
    "plt.title(\"Dochody wg płci\")\n",
    "plt.suptitle('')\n",
    "plt.xlabel('Płeć')\n",
    "plt.ylabel('Dochód')\n",
    "plt.tight_layout()\n",
    "plt.show()"
   ],
   "execution_count":39,
   "outputs":[
    {
     "data":{
      "text\/plain":[
       "<Figure size 800x600 with 0 Axes>"
      ]
     },
     "metadata":{},
     "output_type":"display_data"
    },
    {
     "data":{
      "image\/png":"[encoded data removed]"
     },
     "metadata":{
      "image\/png":{}
     },
     "output_type":"display_data"
    }
   ],
   "metadata":{
    "datalore":{
     "node_id":"bHGyvYrvuF3TMo6EQ0YzG6",
     "type":"CODE",
     "hide_input_from_viewers":true,
     "hide_output_from_viewers":true
    }
   }
  },
  {
   "cell_type":"code",
   "source":[],
   "execution_count":null,
   "outputs":[],
   "metadata":{
    "datalore":{
     "node_id":"2GyK7O65hFxlfIx0CwdyJ4",
     "type":"CODE",
     "hide_input_from_viewers":true,
     "hide_output_from_viewers":true
    }
   }
  }
 ],
 "metadata":{
  "kernelspec":{
   "display_name":"Python",
   "language":"python",
   "name":"python"
  },
  "datalore":{
   "computation_mode":"JUPYTER",
   "package_manager":"pip",
   "base_environment":"default_3_11",
   "python_version":"3.11",
   "packages":[],
   "report_row_ids":[],
   "report_tabs":[],
   "version":4
  }
 },
 "nbformat":4,
 "nbformat_minor":4
}