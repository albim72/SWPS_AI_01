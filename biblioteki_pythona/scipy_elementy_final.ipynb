{
 "cells":[
  {
   "cell_type":"markdown",
   "source":[
    "# Zadanie 1: Znajdowanie minimum funkcji nielinowej"
   ],
   "attachments":{},
   "metadata":{
    "datalore":{
     "node_id":"U8DkgdbKaDDV2CwLdsWrgG",
     "type":"MD",
     "hide_input_from_viewers":true,
     "hide_output_from_viewers":true
    }
   }
  },
  {
   "cell_type":"markdown",
   "source":[
    "funkcja:\n",
    "$$\n",
    "f(x) = x \\cdot \\sin(3x) + x^2 \\cdot \\cos(x)\n",
    "$$\n",
    "cel: zmaleźć minimum lokalne w przedziale [-5,5]"
   ],
   "attachments":{},
   "metadata":{
    "datalore":{
     "node_id":"EfzadQVX0Yu7mF0bjoLcCF",
     "type":"MD",
     "hide_input_from_viewers":true,
     "hide_output_from_viewers":true
    }
   }
  },
  {
   "cell_type":"code",
   "source":[
    "import numpy as np\n",
    "import matplotlib.pyplot as plt\n",
    "from scipy.optimize import minimize_scalar"
   ],
   "execution_count":1,
   "outputs":[],
   "metadata":{
    "datalore":{
     "node_id":"EdG3DOnE2ADXET23RkEyRw",
     "type":"CODE",
     "hide_input_from_viewers":true,
     "hide_output_from_viewers":true
    }
   }
  },
  {
   "cell_type":"code",
   "source":[
    "#definicja funkcji\n",
    "def f(x):\n",
    "    return x*np.sin(3*x)+x**2*np.cos(x)"
   ],
   "execution_count":2,
   "outputs":[],
   "metadata":{
    "datalore":{
     "node_id":"kxO1ZCX8aZF8qhC773GYFM",
     "type":"CODE",
     "hide_input_from_viewers":true,
     "hide_output_from_viewers":true
    }
   }
  },
  {
   "cell_type":"code",
   "source":[
    "#znalezienie minimum w zadanym zakresie\n",
    "res = minimize_scalar(f,bounds=(-5,5),method='bounded')"
   ],
   "execution_count":3,
   "outputs":[],
   "metadata":{
    "datalore":{
     "node_id":"Jd3PcTlahBFN3yPCyTR8UA",
     "type":"CODE",
     "hide_input_from_viewers":true,
     "hide_output_from_viewers":true
    }
   }
  },
  {
   "cell_type":"code",
   "source":[
    "res"
   ],
   "execution_count":6,
   "outputs":[
    {
     "data":{
      "text\/plain":[
       " message: Solution found.\n",
       " success: True\n",
       "  status: 0\n",
       "     fun: -15.303011462667769\n",
       "       x: -3.677702665828064\n",
       "     nit: 13\n",
       "    nfev: 13"
      ]
     },
     "metadata":{},
     "output_type":"display_data"
    }
   ],
   "metadata":{
    "datalore":{
     "node_id":"f9uhVVZVpWhAsuGoWU7rQl",
     "type":"CODE",
     "hide_input_from_viewers":true,
     "hide_output_from_viewers":true
    }
   }
  },
  {
   "cell_type":"code",
   "source":[
    "#wynik:\n",
    "print(\"minimum lokalne funkcji:\")\n",
    "print(f\"x = {res.x:.4f}, f(x)={res.fun:.4f}\")"
   ],
   "execution_count":4,
   "outputs":[
    {
     "name":"stdout",
     "text":[
      "minimum lokalne funkcji:\n",
      "x = -3.6777, f(x)=-15.3030\n"
     ],
     "output_type":"stream"
    }
   ],
   "metadata":{
    "datalore":{
     "node_id":"R6EE9Veq6oHc133fbpaeOC",
     "type":"CODE",
     "hide_input_from_viewers":true,
     "hide_output_from_viewers":true
    }
   }
  },
  {
   "cell_type":"code",
   "source":[
    "x_vals = np.linspace(-5,5,500)\n",
    "y_vals = f(x_vals)\n",
    "\n",
    "plt.plot(x_vals,y_vals,label='f(x)')\n",
    "plt.plot(res.x,res.fun,'ro',label='Minimum')\n",
    "plt.title(\"minimum funkcji\")\n",
    "plt.xlabel(\"x\")\n",
    "plt.ylabel(\"f(x)\")\n",
    "plt.grid(True)\n",
    "plt.show()"
   ],
   "execution_count":5,
   "outputs":[
    {
     "data":{
      "image\/png":"[encoded data removed]"
     },
     "metadata":{
      "image\/png":{}
     },
     "output_type":"display_data"
    }
   ],
   "metadata":{
    "datalore":{
     "node_id":"2WrtT78O4wTGwDWpf4zHvG",
     "type":"CODE",
     "hide_input_from_viewers":true,
     "hide_output_from_viewers":true
    }
   }
  },
  {
   "cell_type":"markdown",
   "source":[
    "# Zadanie 2: całkowanie funkcji z szumem"
   ],
   "attachments":{},
   "metadata":{
    "datalore":{
     "node_id":"ibHHVk2fwVVbRV62JeWlzW",
     "type":"MD",
     "hide_input_from_viewers":true,
     "hide_output_from_viewers":true
    }
   }
  },
  {
   "cell_type":"markdown",
   "source":[
    "funkcja bazowa:\n",
    "\n",
    "$$\n",
    "f(x) = e^{-x^2}\n",
    "$$\n",
    "\n",
    "funkcja z szumem:\n",
    "\n",
    "$$\n",
    "f(x) = e^{-x^2} + \\text{noise}\n",
    "$$\n",
    "\n",
    "cel -> obliczyć wartość całki:\n",
    "\n",
    "$$\n",
    "\\int_0^3 f(x)\\,dx\n",
    "$$"
   ],
   "attachments":{},
   "metadata":{
    "datalore":{
     "node_id":"BPSCs6ct3axEyyapGdAbrg",
     "type":"MD",
     "hide_input_from_viewers":true,
     "hide_output_from_viewers":true
    }
   }
  },
  {
   "cell_type":"code",
   "source":[
    "from scipy.integrate import quad"
   ],
   "execution_count":7,
   "outputs":[],
   "metadata":{
    "datalore":{
     "node_id":"zb6CulelWQLNZONRlPwNdj",
     "type":"CODE",
     "hide_input_from_viewers":true,
     "hide_output_from_viewers":true
    }
   }
  },
  {
   "cell_type":"code",
   "source":[
    "#funkcja bazowa bez szumu\n",
    "def true_function(x):\n",
    "    return np.exp(-x**2)"
   ],
   "execution_count":8,
   "outputs":[],
   "metadata":{
    "datalore":{
     "node_id":"KmZNvDT4OYDTf8jTEH3n0k",
     "type":"CODE",
     "hide_input_from_viewers":true,
     "hide_output_from_viewers":true
    }
   }
  },
  {
   "cell_type":"code",
   "source":[
    "#funkcja z szumem\n",
    "def noisy_function(x):\n",
    "    return np.exp(-x**2) + np.random.normal(0,0.01)"
   ],
   "execution_count":9,
   "outputs":[],
   "metadata":{
    "datalore":{
     "node_id":"urlRrCCjfitwe6rtp29T0e",
     "type":"CODE",
     "hide_input_from_viewers":true,
     "hide_output_from_viewers":true
    }
   }
  },
  {
   "cell_type":"code",
   "source":[
    "#całkowanie wielokrotne\n",
    "results = []\n",
    "for _ in range(50):\n",
    "    result, _ = quad(noisy_function,0,3)\n",
    "    results.append(result)\n",
    "\n",
    "#podsumowanie\n",
    "results = np.array(results)\n",
    "print(f\"średnia wartość całki {results.mean()}\")\n",
    "print(f\"odchylenie standarowe: {results.std()}\")"
   ],
   "execution_count":16,
   "outputs":[
    {
     "name":"stdout",
     "text":[
      "średnia wartość całki 0.8862855533793856\n",
      "odchylenie standarowe: 0.0013648048047986859\n"
     ],
     "output_type":"stream"
    },
    {
     "name":"stderr",
     "text":[
      "\/tmp\/ipykernel_543\/1125486396.py:4: IntegrationWarning: The maximum number of subdivisions (50) has been achieved.\n",
      "  If increasing the limit yields no improvement it is advised to analyze \n",
      "  the integrand in order to determine the difficulties.  If the position of a \n",
      "  local difficulty can be determined (singularity, discontinuity) one will \n",
      "  probably gain from splitting up the interval and calling the integrator \n",
      "  on the subranges.  Perhaps a special-purpose integrator should be used.\n",
      "  result, _ = quad(noisy_function,0,3)\n"
     ],
     "output_type":"stream"
    }
   ],
   "metadata":{
    "datalore":{
     "node_id":"JxXHPYUsLqKP6eED3U8jez",
     "type":"CODE",
     "hide_input_from_viewers":true,
     "hide_output_from_viewers":true
    }
   }
  },
  {
   "cell_type":"markdown",
   "source":[
    "# Zadanie 3: Transformata Fouriera sygnału"
   ],
   "attachments":{},
   "metadata":{
    "datalore":{
     "node_id":"4nVJyJ6rLukMJgtaZdfPpq",
     "type":"MD",
     "hide_input_from_viewers":true,
     "hide_output_from_viewers":true
    }
   }
  },
  {
   "cell_type":"markdown",
   "source":[
    "definicja sygnału:\n",
    "\n",
    "$$\n",
    "s(t) = \\sin(2\\pi \\cdot 5t) + 0.5 \\cdot \\sin(2\\pi \\cdot 10t)\n",
    "$$\n",
    "\n",
    "częstliwość próbkowania:\n",
    "\n",
    "$$\n",
    "f_s = 100 \\text{Hz}\n",
    "$$\n",
    "\n",
    "transformata Fouriera:\n",
    "\n",
    "$$\n",
    "\\text{FFT}(s(t)) = S(f)\n",
    "$$"
   ],
   "attachments":{},
   "metadata":{
    "datalore":{
     "node_id":"yyTPxrvWaYkORAXF1qHw1u",
     "type":"MD",
     "hide_input_from_viewers":true,
     "hide_output_from_viewers":true
    }
   }
  },
  {
   "cell_type":"code",
   "source":[
    "from scipy.fft import fft,fftfreq"
   ],
   "execution_count":17,
   "outputs":[],
   "metadata":{
    "datalore":{
     "node_id":"RWcgCruRkcNAA0zdGdxlqG",
     "type":"CODE",
     "hide_input_from_viewers":true,
     "hide_output_from_viewers":true
    }
   }
  },
  {
   "cell_type":"code",
   "source":[
    "#parametry sygnału\n",
    "fs = 100 #Hz\n",
    "t = np.linspace(0,1,fs,endpoint=False)\n",
    "\n",
    "#sygnał\n",
    "signal = np.sin(2*np.pi*5*t) + 0.5*np.sin(2*np.pi*10*t)"
   ],
   "execution_count":18,
   "outputs":[],
   "metadata":{
    "datalore":{
     "node_id":"5NdNEbEMvKrs4Pz0rz6YhZ",
     "type":"CODE",
     "hide_input_from_viewers":true,
     "hide_output_from_viewers":true
    }
   }
  },
  {
   "cell_type":"code",
   "source":[
    "#transformaty Fouriera\n",
    "fft_vals = fft(signal)\n",
    "fft_freqs = fftfreq(len(t),1\/fs)\n",
    "\n",
    "#widmo apmlitudowe\n",
    "amplitudes = np.abs(fft_vals[:len(t)\/\/2])\n",
    "frequencies = fft_freqs[:len(t)\/\/2]"
   ],
   "execution_count":21,
   "outputs":[],
   "metadata":{
    "datalore":{
     "node_id":"UNRpxBSs8vftxb0YjbQcTz",
     "type":"CODE",
     "hide_input_from_viewers":true,
     "hide_output_from_viewers":true
    }
   }
  },
  {
   "cell_type":"code",
   "source":[
    "#wykres\n",
    "plt.stem(frequencies,amplitudes,basefmt=\" \")\n",
    "plt.title(\"Widmo amplitudowe sygnału\")\n",
    "plt.xlabel(\"Częstptliwość [Hz]\")\n",
    "plt.ylabel(\"Amplituda\")\n",
    "plt.grid(True)\n",
    "plt.show()"
   ],
   "execution_count":23,
   "outputs":[
    {
     "data":{
      "image\/png":"[encoded data removed]"
     },
     "metadata":{
      "image\/png":{}
     },
     "output_type":"display_data"
    }
   ],
   "metadata":{
    "datalore":{
     "node_id":"c3g3O2tLHyd3oGly5MvIMC",
     "type":"CODE",
     "hide_input_from_viewers":true,
     "hide_output_from_viewers":true
    }
   }
  }
 ],
 "metadata":{
  "kernelspec":{
   "display_name":"Python",
   "language":"python",
   "name":"python"
  },
  "datalore":{
   "computation_mode":"JUPYTER",
   "package_manager":"pip",
   "base_environment":"default_3_11",
   "python_version":"3.11",
   "packages":[],
   "report_row_ids":[],
   "report_tabs":[],
   "version":4
  }
 },
 "nbformat":4,
 "nbformat_minor":4
}