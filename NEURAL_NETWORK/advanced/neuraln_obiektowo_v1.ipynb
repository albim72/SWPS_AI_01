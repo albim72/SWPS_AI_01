{
  "nbformat": 4,
  "nbformat_minor": 0,
  "metadata": {
    "colab": {
      "provenance": []
    },
    "kernelspec": {
      "name": "python3",
      "display_name": "Python 3"
    },
    "language_info": {
      "name": "python"
    }
  },
  "cells": [
    {
      "cell_type": "code",
      "execution_count": 1,
      "metadata": {
        "id": "PLT6oEBZM84I"
      },
      "outputs": [],
      "source": [
        "import numpy as np\n",
        "import pandas as pd\n",
        "import matplotlib.pyplot as plt\n",
        "import tensorflow as tf\n",
        "\n",
        "from tensorflow.keras.layers import Dense,Flatten,Conv2D\n",
        "from tensorflow.keras import Model"
      ]
    },
    {
      "cell_type": "markdown",
      "source": [
        "Start projektu - model sieci neuronowej zdefiniowany obiektowo<br>\n",
        "budowa modelu opartego na klasie Pythona z użyciem funkcji specjalnych: **init,call,repr**"
      ],
      "metadata": {
        "id": "hZ2UKi6mOmBf"
      }
    },
    {
      "cell_type": "code",
      "source": [
        "#zbiór danych\n",
        "mnist = tf.keras.datasets.mnist\n",
        "\n",
        "(x_train, y_train), (x_test, y_test) = mnist.load_data()\n",
        "x_train, x_test = x_train / 255.0, x_test / 255.0\n",
        "#dodanie kanału dla CNN\n",
        "x_train = x_train[..., tf.newaxis].astype(\"float32\")\n",
        "x_test = x_test[..., tf.newaxis].astype(\"float32\")"
      ],
      "metadata": {
        "colab": {
          "base_uri": "https://localhost:8080/"
        },
        "id": "RVa_AapGO7Bv",
        "outputId": "56950fc1-fe5b-4a0d-f3c6-716c1a4763e2"
      },
      "execution_count": 2,
      "outputs": [
        {
          "output_type": "stream",
          "name": "stdout",
          "text": [
            "Downloading data from https://storage.googleapis.com/tensorflow/tf-keras-datasets/mnist.npz\n",
            "\u001b[1m11490434/11490434\u001b[0m \u001b[32m━━━━━━━━━━━━━━━━━━━━\u001b[0m\u001b[37m\u001b[0m \u001b[1m0s\u001b[0m 0us/step\n"
          ]
        }
      ]
    },
    {
      "cell_type": "code",
      "source": [
        "#przygotowanie zbiorów danych do przetwarzania wsadowego dla modelu\n",
        "train_ds = tf.data.Dataset.from_tensor_slices(\n",
        "    (x_train, y_train)).shuffle(10000).batch(32)\n",
        "test_ds = tf.data.Dataset.from_tensor_slices((x_test, y_test)).batch(32)"
      ],
      "metadata": {
        "id": "85QZTDd7PnJB"
      },
      "execution_count": 3,
      "outputs": []
    },
    {
      "cell_type": "code",
      "source": [
        "x_train.shape"
      ],
      "metadata": {
        "colab": {
          "base_uri": "https://localhost:8080/"
        },
        "id": "_wlYVPZvQEtz",
        "outputId": "89579576-c33c-47d0-bc31-ceee61127371"
      },
      "execution_count": 4,
      "outputs": [
        {
          "output_type": "execute_result",
          "data": {
            "text/plain": [
              "(60000, 28, 28, 1)"
            ]
          },
          "metadata": {},
          "execution_count": 4
        }
      ]
    },
    {
      "cell_type": "code",
      "source": [
        "x_test.shape"
      ],
      "metadata": {
        "colab": {
          "base_uri": "https://localhost:8080/"
        },
        "id": "Al4KuFyXQM4P",
        "outputId": "e3bedc21-5098-4eb2-bf18-1c24ecf8631b"
      },
      "execution_count": 5,
      "outputs": [
        {
          "output_type": "execute_result",
          "data": {
            "text/plain": [
              "(10000, 28, 28, 1)"
            ]
          },
          "metadata": {},
          "execution_count": 5
        }
      ]
    },
    {
      "cell_type": "markdown",
      "source": [
        "Budowa modelu w oparciu o interfejs: API do tworzenia podklas modelu KERAS"
      ],
      "metadata": {
        "id": "EV7LKGtgRekN"
      }
    },
    {
      "cell_type": "code",
      "source": [
        "def relu(x):\n",
        "  return np.maximum(0,x)\n",
        "\n",
        "#napisz w matplotlib wykres funkcji relu na bazie funkcji relu(x), zbuduj dziedzinę funkcji w zakresie (-10,10) i podziel ją na 1000 punktów\n",
        "#wyrysuj ten wykres podpisując go \"funkcja relu\", opisz osie x-> x, y > RELU(x)\n",
        "#zapisz wykres do pliku relu.png\n",
        "\n",
        "x = np.linspace(-10,10,1000)\n",
        "y = relu(x)\n",
        "\n",
        "plt.figure(figsize=(8,6))\n",
        "plt.plot(x,y)\n",
        "plt.xlabel(\"x\")\n",
        "plt.ylabel(\"RELU(x)\")\n",
        "plt.title(\"Funkcja RELU\")\n",
        "plt.grid(True)\n",
        "plt.savefig(\"relu.png\")\n",
        "plt.show()"
      ],
      "metadata": {
        "colab": {
          "base_uri": "https://localhost:8080/",
          "height": 564
        },
        "id": "_ui2qp0vRl-R",
        "outputId": "8c49761a-563a-45e3-a3cf-dcd75360b681"
      },
      "execution_count": 8,
      "outputs": [
        {
          "output_type": "display_data",
          "data": {
            "text/plain": [
              "<Figure size 800x600 with 1 Axes>"
            ],
            "image/png": "[encoded data removed]"
          },
          "metadata": {}
        }
      ]
    },
    {
      "cell_type": "code",
      "source": [
        "#klasa reprezentująca sieć neuronową\n",
        "class ModelNeuralNet(Model):\n",
        "  def __init__(self):\n",
        "    super(ModelNeuralNet, self).__init__()\n",
        "    self.conv1 = Conv2D(32, 3, activation='relu')\n",
        "    self.flatten = Flatten()\n",
        "    self.d1 = Dense(128, activation='relu')\n",
        "    self.d2 = Dense(10)\n",
        "\n",
        "  def call(self, x):\n",
        "    x = self.conv1(x)\n",
        "    x = self.flatten(x)\n",
        "    x = self.d1(x)\n",
        "    return self.d2(x)\n",
        "\n",
        "  def __repr__(self) -> str:\n",
        "    return f\"klasa {self.__class__.__name__} -> wynik funkcji call: połączone warstwy modelu\""
      ],
      "metadata": {
        "id": "fNmLSEd0SzUU"
      },
      "execution_count": 11,
      "outputs": []
    },
    {
      "cell_type": "code",
      "source": [
        "model  = ModelNeuralNet()\n",
        "print(model)"
      ],
      "metadata": {
        "colab": {
          "base_uri": "https://localhost:8080/"
        },
        "id": "8-Z4l-NNTr1I",
        "outputId": "8c5afa0b-0128-440b-ce53-9fda4725615c"
      },
      "execution_count": 12,
      "outputs": [
        {
          "output_type": "stream",
          "name": "stdout",
          "text": [
            "klasa ModelNeuralNet -> wynik funkcji call: połączone warstwy modelu\n"
          ]
        }
      ]
    }
  ]
}